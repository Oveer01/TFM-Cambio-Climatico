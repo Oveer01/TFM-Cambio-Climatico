{
 "cells": [
  {
   "cell_type": "markdown",
   "id": "df6cdd9b",
   "metadata": {},
   "source": [
    "# Inserción de Datos Demográficos\n",
    "\n",
    "En este notebook cargamos y limpiamos dos fuentes de datos de la World Bank:\n",
    "- **API_AG.LND.TOTL.K2_DS2_en_excel_v2_85542.xls** (Superficie terrestre en km²)\n",
    "- **API_SP.POP.TOTL_DS2_en_excel_v2_85347.xls** (Población total)\n",
    "\n",
    "Los datos se normalizan a formato “largo”, se mapean los países a su código en nuestra tabla `Paises`, y finalmente se insertan en la tabla `Hechos` (anual, `periodo_id=17`).\n"
   ]
  },
  {
   "cell_type": "markdown",
   "id": "4d2a1565",
   "metadata": {},
   "source": [
    "### 1. Preparación del entorno y conexión"
   ]
  },
  {
   "cell_type": "code",
   "execution_count": 1,
   "id": "b92ff019",
   "metadata": {},
   "outputs": [],
   "source": [
    "import os\n",
    "import pandas as pd\n",
    "import numpy as np\n",
    "import pymysql\n",
    "from pymysql.constants import CLIENT\n",
    "from dotenv import load_dotenv\n",
    "\n",
    "load_dotenv()\n",
    "DB_HOST     = os.getenv('DB_HOST')\n",
    "DB_USER     = os.getenv('DB_USER')\n",
    "DB_PASSWORD = os.getenv('DB_PASSWORD')\n",
    "DB_NAME     = os.getenv('DB_NAME')\n",
    "\n",
    "conexion = pymysql.connect(\n",
    "    host=DB_HOST,\n",
    "    user=DB_USER,\n",
    "    password=DB_PASSWORD,\n",
    "    database=DB_NAME,\n",
    "    client_flag=CLIENT.MULTI_STATEMENTS\n",
    ")\n",
    "cursor = conexion.cursor()\n"
   ]
  },
  {
   "cell_type": "markdown",
   "id": "c04bbd1c",
   "metadata": {},
   "source": [
    "### 2. Carga de los archivos Excel\n",
    "\n",
    "Leemos ambos ficheros, que tienen 3 filas de metadatos arriba del encabezado.\n"
   ]
  },
  {
   "cell_type": "code",
   "execution_count": 2,
   "id": "b42ea3b5",
   "metadata": {},
   "outputs": [
    {
     "name": "stdout",
     "output_type": "stream",
     "text": [
      "Area: (266, 69) Pop: (266, 69)\n"
     ]
    }
   ],
   "source": [
    "# Rutas a los archivos\n",
    "ruta_land  = \"../../data/fuentes/demograficos/API_AG.LND.TOTL.K2_DS2_en_excel_v2_85542.xls\"\n",
    "ruta_pop = \"../../data/fuentes/demograficos/API_SP.POP.TOTL_DS2_en_excel_v2_85347.xls\"\n",
    "\n",
    "df_land = pd.read_excel(ruta_land, skiprows=3)\n",
    "df_pop = pd.read_excel(ruta_pop,  skiprows=3)\n",
    "\n",
    "print(\"Area:\", df_land.shape, \"Pop:\", df_pop.shape)\n"
   ]
  },
  {
   "cell_type": "markdown",
   "id": "7660175e",
   "metadata": {},
   "source": [
    "### 3. Transformación a formato largo\n",
    "\n",
    "Pivotamos los años (columnas) a filas para ambos dataframes.\n"
   ]
  },
  {
   "cell_type": "code",
   "execution_count": 3,
   "id": "50e34b98",
   "metadata": {},
   "outputs": [
    {
     "name": "stdout",
     "output_type": "stream",
     "text": [
      "                  Country Name Country Code      Indicator Name  \\\n",
      "0                        Aruba          ABW  Land area (sq. km)   \n",
      "1  Africa Eastern and Southern          AFE  Land area (sq. km)   \n",
      "\n",
      "   Indicator Code  Year  Land_km2  \n",
      "0  AG.LND.TOTL.K2  1960       NaN  \n",
      "1  AG.LND.TOTL.K2  1960       NaN  \n",
      "                  Country Name Country Code     Indicator Name Indicator Code  \\\n",
      "0                        Aruba          ABW  Population, total    SP.POP.TOTL   \n",
      "1  Africa Eastern and Southern          AFE  Population, total    SP.POP.TOTL   \n",
      "\n",
      "   Year   Population  \n",
      "0  1960      54922.0  \n",
      "1  1960  130072080.0  \n"
     ]
    }
   ],
   "source": [
    "# Detectar columnas de año (cuatro dígitos)\n",
    "year_cols_land  = [c for c in df_land.columns if str(c).isdigit()]\n",
    "year_cols_pop   = [c for c in df_pop.columns  if str(c).isdigit()]\n",
    "\n",
    "# Melt superficie terrestre\n",
    "df_land_long  = df_land.melt(\n",
    "    id_vars=[\"Country Name\",\"Country Code\",\"Indicator Name\",\"Indicator Code\"],\n",
    "    value_vars=year_cols_land,\n",
    "    var_name=\"Year\", value_name=\"Land_km2\"\n",
    ")\n",
    "# Melt población total\n",
    "df_pop_long  = df_pop.melt(\n",
    "    id_vars=[\"Country Name\",\"Country Code\",\"Indicator Name\",\"Indicator Code\"],\n",
    "    value_vars=year_cols_pop,\n",
    "    var_name=\"Year\", value_name=\"Population\"\n",
    ")\n",
    "\n",
    "# Convertir Year a int\n",
    "df_land_long[\"Year\"] = df_land_long[\"Year\"].astype(int)\n",
    "df_pop_long[\"Year\"]  = df_pop_long[\"Year\"].astype(int)\n",
    "\n",
    "print(df_land_long.head(2))\n",
    "print(df_pop_long.head(2))\n"
   ]
  },
  {
   "cell_type": "markdown",
   "id": "284c634c",
   "metadata": {},
   "source": [
    "### 4. Limpieza de valores\n",
    "\n",
    "– Reemplazamos valores faltantes (“..”, “-”) y convertimos a `float`.  \n",
    "– Eliminamos filas sin valor.\n"
   ]
  },
  {
   "cell_type": "code",
   "execution_count": 4,
   "id": "aae683b1",
   "metadata": {},
   "outputs": [
    {
     "name": "stdout",
     "output_type": "stream",
     "text": [
      "⚠️ 2185 filas sin Land_km2 → se descartan\n",
      "⚠️ 360 filas sin Population → se descartan\n"
     ]
    }
   ],
   "source": [
    "for df, col in [(df_land_long, \"Land_km2\"), (df_pop_long, \"Population\")]:\n",
    "    df[col] = (\n",
    "      df[col]\n",
    "        .astype(str)\n",
    "        .replace({\"..\": \"\", \"-\": \"\"})\n",
    "        .replace(r'^\\s*$', np.nan, regex=True)\n",
    "    )\n",
    "    df[col] = pd.to_numeric(df[col], errors=\"coerce\")\n",
    "    n_missing = df[col].isna().sum()\n",
    "    print(f\"⚠️ {n_missing} filas sin {col} → se descartan\")\n",
    "    df.dropna(subset=[col], inplace=True)\n"
   ]
  },
  {
   "cell_type": "markdown",
   "id": "2d9c1ce8",
   "metadata": {},
   "source": [
    "### 5. Mapeo de países (`pais_id`)\n",
    "\n",
    "– Normalizamos el nombre de país.  \n",
    "– Aplicamos excepciones para casos especiales.  \n",
    "– Cargamos `Paises` (nombre_en → código) y mapeamos.\n"
   ]
  },
  {
   "cell_type": "code",
   "execution_count": 5,
   "id": "fd65a0be",
   "metadata": {},
   "outputs": [
    {
     "name": "stdout",
     "output_type": "stream",
     "text": [
      "⚠️ No mapeados: ['Africa Eastern and Southern' 'Africa Western and Central' 'Arab World'\n",
      " 'Central Europe and the Baltics' 'Channel Islands'\n",
      " 'Caribbean small states' 'East Asia & Pacific (excluding high income)'\n",
      " 'Early-demographic dividend' 'East Asia & Pacific'\n",
      " 'Europe & Central Asia (excluding high income)' 'Europe & Central Asia'\n",
      " 'Euro area' 'European Union' 'Fragile and conflict affected situations'\n",
      " 'High income' 'Heavily indebted poor countries (HIPC)' 'IBRD only'\n",
      " 'IDA & IBRD total' 'IDA total' 'IDA blend' 'IDA only'\n",
      " 'Latin America & Caribbean (excluding high income)'\n",
      " 'Latin America & Caribbean'\n",
      " 'Least developed countries: UN classification' 'Low income'\n",
      " 'Lower middle income' 'Low & middle income' 'Late-demographic dividend'\n",
      " 'Middle East & North Africa' 'Middle income'\n",
      " 'Middle East & North Africa (excluding high income)' 'North America'\n",
      " 'Namibia' 'OECD members' 'Other small states' 'Pre-demographic dividend'\n",
      " 'West Bank and Gaza' 'Pacific island small states'\n",
      " 'Post-demographic dividend' 'South Asia'\n",
      " 'Sub-Saharan Africa (excluding high income)' 'Sub-Saharan Africa'\n",
      " 'Small states' 'East Asia & Pacific (IDA & IBRD countries)'\n",
      " 'Europe & Central Asia (IDA & IBRD countries)'\n",
      " 'Latin America & the Caribbean (IDA & IBRD countries)'\n",
      " 'Middle East & North Africa (IDA & IBRD countries)'\n",
      " 'South Asia (IDA & IBRD)' 'Sub-Saharan Africa (IDA & IBRD countries)'\n",
      " 'Upper middle income' 'World']\n",
      "⚠️ No mapeados: ['Africa Eastern and Southern' 'Africa Western and Central' 'Arab World'\n",
      " 'Central Europe and the Baltics' 'Channel Islands'\n",
      " 'Caribbean small states' 'East Asia & Pacific (excluding high income)'\n",
      " 'Early-demographic dividend' 'East Asia & Pacific'\n",
      " 'Europe & Central Asia (excluding high income)' 'Europe & Central Asia'\n",
      " 'Euro area' 'European Union' 'Fragile and conflict affected situations'\n",
      " 'High income' 'Heavily indebted poor countries (HIPC)' 'IBRD only'\n",
      " 'IDA & IBRD total' 'IDA total' 'IDA blend' 'IDA only'\n",
      " 'Latin America & Caribbean (excluding high income)'\n",
      " 'Latin America & Caribbean'\n",
      " 'Least developed countries: UN classification' 'Low income'\n",
      " 'Lower middle income' 'Low & middle income' 'Late-demographic dividend'\n",
      " 'Middle East & North Africa' 'Middle income'\n",
      " 'Middle East & North Africa (excluding high income)' 'North America'\n",
      " 'Namibia' 'OECD members' 'Other small states' 'Pre-demographic dividend'\n",
      " 'Pacific island small states' 'Post-demographic dividend' 'South Asia'\n",
      " 'Sub-Saharan Africa (excluding high income)' 'Sub-Saharan Africa'\n",
      " 'Small states' 'East Asia & Pacific (IDA & IBRD countries)'\n",
      " 'Europe & Central Asia (IDA & IBRD countries)'\n",
      " 'Latin America & the Caribbean (IDA & IBRD countries)'\n",
      " 'Middle East & North Africa (IDA & IBRD countries)'\n",
      " 'South Asia (IDA & IBRD)' 'Sub-Saharan Africa (IDA & IBRD countries)'\n",
      " 'Upper middle income' 'World' 'Kosovo' 'West Bank and Gaza']\n"
     ]
    }
   ],
   "source": [
    "# 5.1 cargar dimensión Paises (codigo, nombre_en)\n",
    "cursor.execute(\"SELECT codigo, nombre_en FROM Paises;\")\n",
    "dim_p = { nombre_en.strip().lower(): codigo \n",
    "          for codigo, nombre_en in cursor.fetchall() }\n",
    "\n",
    "# 5.2 excepciones puntuales\n",
    "exceptions = {\n",
    "    'netherlands':                    'netherlands (kingdom of the)',\n",
    "    'turkiye':                        'türkiye',\n",
    "    'united kingdom':                 'united kingdom of great britain and northern ireland',\n",
    "    'bahamas, the':                   'bahamas',\n",
    "    'bolivia':                        'bolivia (plurinational state of)',\n",
    "    'congo, dem. rep.':               'congo (the democratic republic of the)',\n",
    "    'congo, rep.':                    'congo',\n",
    "    \"cote d'ivoire\":                  \"côte d'ivoire\",\n",
    "    'egypt, arab rep.':               'egypt',\n",
    "    'gambia, the':                    'gambia',\n",
    "    'hong kong sar, china':           'hong kong',\n",
    "    'iran, islamic rep.':             'iran (islamic republic of)',\n",
    "    'korea, rep.':                    'korea (the republic of)',\n",
    "    'micronesia, fed. states of':     'micronesia (federated states of)',\n",
    "    'st. vincent and the grenadines': 'saint vincent and the grenadines',\n",
    "    'tanzania':                       'tanzania, the united republic of',\n",
    "    'curacao':                        'curaçao',\n",
    "    \"korea, dem. people's rep.\":     \"korea (the democratic people's republic of)\",\n",
    "    'slovak republic':                'slovakia',\n",
    "    'venezuela, rb':                  'venezuela (bolivarian republic of)',\n",
    "    'yemen, rep.':                    'yemen',\n",
    "    'st. kitts and nevis':            'saint kitts and nevis',\n",
    "    'st. lucia':                      'saint lucia',\n",
    "    'macao sar, china':               'macao',\n",
    "    'lao pdr':                        \"lao people's democratic republic\",\n",
    "    'kyrgyz republic':                'kyrgyzstan',\n",
    "    'russian federation':             'russian federation',\n",
    "    'moldova':                        'moldova (the republic of)',\n",
    "    'united states':                  'united states of america',\n",
    "    'st. martin (french part)':       'saint martin (french part)',\n",
    "    'british virgin islands':         'virgin islands (british)',\n",
    "    'micronesia, fed. sts.':     'micronesia (federated states of)',\n",
    "}\n",
    "\n",
    "def map_pais(df):\n",
    "    df[\"country_norm\"] = (\n",
    "        df[\"Country Name\"]\n",
    "          .astype(str)\n",
    "          .str.strip()\n",
    "          .str.lower()\n",
    "    )\n",
    "    df[\"country_db\"] = df[\"country_norm\"].map(lambda x: exceptions.get(x, x))\n",
    "    df[\"pais_id\"]    = df[\"country_db\"].map(dim_p)\n",
    "    no = df.loc[df[\"pais_id\"].isna(), \"Country Name\"].unique()\n",
    "    if len(no):\n",
    "        print(\"⚠️ No mapeados:\", no)\n",
    "    return df[df[\"pais_id\"].notna()]\n",
    "\n",
    "df_land_long = map_pais(df_land_long)\n",
    "df_pop_long  = map_pais(df_pop_long)\n"
   ]
  },
  {
   "cell_type": "markdown",
   "id": "72e989fc",
   "metadata": {},
   "source": [
    "### 6. Cargar los IDs de los indicadores existentes\n",
    "\n",
    "Leemos de la tabla `Indicadores` (código → id) para luego mapear nuestros dataframes demográficos.\n"
   ]
  },
  {
   "cell_type": "code",
   "execution_count": 6,
   "id": "587b0507",
   "metadata": {},
   "outputs": [],
   "source": [
    "# 6.1 Obtener (id, codigo) de la tabla Indicadores\n",
    "cursor.execute(\"SELECT id, codigo FROM Indicadores;\")\n",
    "dim_ind_map = { codigo: iid for iid, codigo in cursor.fetchall() }\n",
    "\n",
    "# 6.2 Verificar que todos los códigos que vamos a usar existen en la dimensión\n",
    "for code in [\"AG.LND.TOTL.K2\", \"SP.POP.TOTL\"]:\n",
    "    if code not in dim_ind_map:\n",
    "        raise KeyError(f\"Falta el indicador `{code}` en la tabla Indicadores.\")\n"
   ]
  },
  {
   "cell_type": "markdown",
   "id": "343f84d1",
   "metadata": {},
   "source": [
    "### 7. Inserción por lotes en la tabla `Hechos`\n",
    "\n",
    "Para no bloquear la base de datos, hacemos la inserción en chunks de 1000.\n"
   ]
  },
  {
   "cell_type": "code",
   "execution_count": 7,
   "id": "ab50e050",
   "metadata": {},
   "outputs": [
    {
     "name": "stdout",
     "output_type": "stream",
     "text": [
      "Total filas a insertar en Hechos: 25577\n",
      "✔ Insertadas filas 1–1000\n",
      "✔ Insertadas filas 1001–2000\n",
      "✔ Insertadas filas 2001–3000\n",
      "✔ Insertadas filas 3001–4000\n",
      "✔ Insertadas filas 4001–5000\n",
      "✔ Insertadas filas 5001–6000\n",
      "✔ Insertadas filas 6001–7000\n",
      "✔ Insertadas filas 7001–8000\n",
      "✔ Insertadas filas 8001–9000\n",
      "✔ Insertadas filas 9001–10000\n",
      "✔ Insertadas filas 10001–11000\n",
      "✔ Insertadas filas 11001–12000\n",
      "✔ Insertadas filas 12001–13000\n",
      "✔ Insertadas filas 13001–14000\n",
      "✔ Insertadas filas 14001–15000\n",
      "✔ Insertadas filas 15001–16000\n",
      "✔ Insertadas filas 16001–17000\n",
      "✔ Insertadas filas 17001–18000\n",
      "✔ Insertadas filas 18001–19000\n",
      "✔ Insertadas filas 19001–20000\n",
      "✔ Insertadas filas 20001–21000\n",
      "✔ Insertadas filas 21001–22000\n",
      "✔ Insertadas filas 22001–23000\n",
      "✔ Insertadas filas 23001–24000\n",
      "✔ Insertadas filas 24001–25000\n",
      "✔ Insertadas filas 25001–25577\n"
     ]
    }
   ],
   "source": [
    "fact_tuples = []\n",
    "\n",
    "# período anual = 17\n",
    "PER_ANUAL = 17\n",
    "\n",
    "# Área terrestre → indicador AG.LND.TOTL.K2\n",
    "for _, r in df_land_long.iterrows():\n",
    "    fact_tuples.append((\n",
    "        r[\"pais_id\"],\n",
    "        PER_ANUAL,\n",
    "        int(r[\"Year\"]),\n",
    "        dim_ind_map[\"AG.LND.TOTL.K2\"],\n",
    "        float(r[\"Land_km2\"])\n",
    "    ))\n",
    "\n",
    "# Población → indicador SP.POP.TOTL\n",
    "for _, r in df_pop_long.iterrows():\n",
    "    fact_tuples.append((\n",
    "        r[\"pais_id\"],\n",
    "        PER_ANUAL,\n",
    "        int(r[\"Year\"]),\n",
    "        dim_ind_map[\"SP.POP.TOTL\"],\n",
    "        float(r[\"Population\"])\n",
    "    ))\n",
    "\n",
    "print(\"Total filas a insertar en Hechos:\", len(fact_tuples))\n",
    "\n",
    "sql_insert = \"\"\"\n",
    "INSERT INTO Hechos\n",
    "  (pais_id, periodo_id, anio, indicador_id, valor)\n",
    "VALUES (%s,%s,%s,%s,%s);\n",
    "\"\"\"\n",
    "batch_size = 1000\n",
    "total = len(fact_tuples)\n",
    "\n",
    "for start in range(0, total, batch_size):\n",
    "    end = min(start + batch_size, total)\n",
    "    chunk = fact_tuples[start:end]\n",
    "    cursor.executemany(sql_insert, chunk)\n",
    "    conexion.commit()\n",
    "    print(f\"✔ Insertadas filas {start+1}–{end}\")\n",
    "\n",
    "cursor.close()\n",
    "conexion.close()\n",
    "\n"
   ]
  }
 ],
 "metadata": {
  "kernelspec": {
   "display_name": "venv (3.13.6)",
   "language": "python",
   "name": "python3"
  },
  "language_info": {
   "codemirror_mode": {
    "name": "ipython",
    "version": 3
   },
   "file_extension": ".py",
   "mimetype": "text/x-python",
   "name": "python",
   "nbconvert_exporter": "python",
   "pygments_lexer": "ipython3",
   "version": "3.13.6"
  }
 },
 "nbformat": 4,
 "nbformat_minor": 5
}
