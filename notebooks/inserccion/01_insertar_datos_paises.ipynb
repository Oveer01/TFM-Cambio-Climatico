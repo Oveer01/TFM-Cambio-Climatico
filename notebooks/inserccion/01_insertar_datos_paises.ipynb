{
 "cells": [
  {
   "cell_type": "markdown",
   "id": "61898b75",
   "metadata": {},
   "source": [
    "# Impotación de los países en la base de datos"
   ]
  },
  {
   "cell_type": "markdown",
   "id": "87e468ad",
   "metadata": {},
   "source": [
    "### 1. Importar librerías y cargar datos\n",
    "\n",
    "En esta sección importamos las librerías necesarias (`pandas`, `os`, `dotenv` y `pymysql`), cargamos las variables de entorno desde un archivo `.env` y leemos el CSV con la información de países, subcontinentes y continentes.\n"
   ]
  },
  {
   "cell_type": "code",
   "execution_count": 29,
   "id": "1a244424",
   "metadata": {},
   "outputs": [
    {
     "data": {
      "text/html": [
       "<div>\n",
       "<style scoped>\n",
       "    .dataframe tbody tr th:only-of-type {\n",
       "        vertical-align: middle;\n",
       "    }\n",
       "\n",
       "    .dataframe tbody tr th {\n",
       "        vertical-align: top;\n",
       "    }\n",
       "\n",
       "    .dataframe thead th {\n",
       "        text-align: right;\n",
       "    }\n",
       "</style>\n",
       "<table border=\"1\" class=\"dataframe\">\n",
       "  <thead>\n",
       "    <tr style=\"text-align: right;\">\n",
       "      <th></th>\n",
       "      <th>Codi</th>\n",
       "      <th>Nom</th>\n",
       "      <th>Codi A3</th>\n",
       "      <th>Codi Divisa</th>\n",
       "      <th>Codi Regió UN M49</th>\n",
       "      <th>Continent Codi</th>\n",
       "      <th>Continent Nom</th>\n",
       "      <th>Subcontinent Codi</th>\n",
       "      <th>Subcontinent Nom</th>\n",
       "      <th>Nom en anglès</th>\n",
       "      <th>Nom en castellà</th>\n",
       "    </tr>\n",
       "  </thead>\n",
       "  <tbody>\n",
       "    <tr>\n",
       "      <th>0</th>\n",
       "      <td>AF</td>\n",
       "      <td>Afganistan</td>\n",
       "      <td>AFG</td>\n",
       "      <td>AFN</td>\n",
       "      <td>34</td>\n",
       "      <td>4</td>\n",
       "      <td>Àsia</td>\n",
       "      <td>12</td>\n",
       "      <td>Àsia meridional</td>\n",
       "      <td>Afghanistan</td>\n",
       "      <td>Afganistán</td>\n",
       "    </tr>\n",
       "    <tr>\n",
       "      <th>1</th>\n",
       "      <td>AX</td>\n",
       "      <td>Aland</td>\n",
       "      <td>ALA</td>\n",
       "      <td>EUR</td>\n",
       "      <td>154</td>\n",
       "      <td>5</td>\n",
       "      <td>Europa</td>\n",
       "      <td>17</td>\n",
       "      <td>Unió Europea</td>\n",
       "      <td>Aland Islands</td>\n",
       "      <td>Islas Aland</td>\n",
       "    </tr>\n",
       "    <tr>\n",
       "      <th>2</th>\n",
       "      <td>AL</td>\n",
       "      <td>Albània</td>\n",
       "      <td>ALB</td>\n",
       "      <td>ALL</td>\n",
       "      <td>39</td>\n",
       "      <td>5</td>\n",
       "      <td>Europa</td>\n",
       "      <td>16</td>\n",
       "      <td>Europa (no UE)</td>\n",
       "      <td>Albania</td>\n",
       "      <td>Albania</td>\n",
       "    </tr>\n",
       "    <tr>\n",
       "      <th>3</th>\n",
       "      <td>DE</td>\n",
       "      <td>Alemanya</td>\n",
       "      <td>DEU</td>\n",
       "      <td>EUR</td>\n",
       "      <td>155</td>\n",
       "      <td>5</td>\n",
       "      <td>Europa</td>\n",
       "      <td>17</td>\n",
       "      <td>Unió Europea</td>\n",
       "      <td>Germany</td>\n",
       "      <td>Alemania</td>\n",
       "    </tr>\n",
       "    <tr>\n",
       "      <th>4</th>\n",
       "      <td>DZ</td>\n",
       "      <td>Algèria</td>\n",
       "      <td>DZA</td>\n",
       "      <td>DZD</td>\n",
       "      <td>15</td>\n",
       "      <td>1</td>\n",
       "      <td>Àfrica</td>\n",
       "      <td>5</td>\n",
       "      <td>Àfrica septentrional</td>\n",
       "      <td>Algeria</td>\n",
       "      <td>Argelia</td>\n",
       "    </tr>\n",
       "  </tbody>\n",
       "</table>\n",
       "</div>"
      ],
      "text/plain": [
       "  Codi         Nom Codi A3 Codi Divisa  Codi Regió UN M49  Continent Codi  \\\n",
       "0   AF  Afganistan     AFG         AFN                 34               4   \n",
       "1   AX       Aland     ALA         EUR                154               5   \n",
       "2   AL     Albània     ALB         ALL                 39               5   \n",
       "3   DE    Alemanya     DEU         EUR                155               5   \n",
       "4   DZ     Algèria     DZA         DZD                 15               1   \n",
       "\n",
       "  Continent Nom  Subcontinent Codi      Subcontinent Nom  Nom en anglès  \\\n",
       "0          Àsia                 12       Àsia meridional    Afghanistan   \n",
       "1        Europa                 17          Unió Europea  Aland Islands   \n",
       "2        Europa                 16        Europa (no UE)        Albania   \n",
       "3        Europa                 17          Unió Europea        Germany   \n",
       "4        Àfrica                  5  Àfrica septentrional        Algeria   \n",
       "\n",
       "  Nom en castellà  \n",
       "0      Afganistán  \n",
       "1     Islas Aland  \n",
       "2         Albania  \n",
       "3        Alemania  \n",
       "4         Argelia  "
      ]
     },
     "execution_count": 29,
     "metadata": {},
     "output_type": "execute_result"
    }
   ],
   "source": [
    "import os\n",
    "from dotenv import load_dotenv\n",
    "import pandas as pd\n",
    "import pymysql\n",
    "from pymysql.constants import CLIENT\n",
    " \n",
    "load_dotenv()\n",
    "DB_HOST     = os.getenv('DB_HOST')\n",
    "DB_USER     = os.getenv('DB_USER')\n",
    "DB_PASSWORD = os.getenv('DB_PASSWORD')\n",
    "DB_NAME     = os.getenv('DB_NAME')\n",
    "\n",
    "df_geo = pd.read_csv('../../data/fuentes/paises/Pa_sos.csv')\n",
    "df_geo.head()\n"
   ]
  },
  {
   "cell_type": "markdown",
   "id": "793d82f1",
   "metadata": {},
   "source": [
    "### 2. Traducción de nombres\n",
    "\n",
    "Los campos `Continent Nom` y `Subcontinent Nom` están en catalán. Definimos diccionarios de traducción y creamos nuevas columnas en castellano.\n"
   ]
  },
  {
   "cell_type": "code",
   "execution_count": 30,
   "id": "d310c77e",
   "metadata": {},
   "outputs": [
    {
     "data": {
      "text/html": [
       "<div>\n",
       "<style scoped>\n",
       "    .dataframe tbody tr th:only-of-type {\n",
       "        vertical-align: middle;\n",
       "    }\n",
       "\n",
       "    .dataframe tbody tr th {\n",
       "        vertical-align: top;\n",
       "    }\n",
       "\n",
       "    .dataframe thead th {\n",
       "        text-align: right;\n",
       "    }\n",
       "</style>\n",
       "<table border=\"1\" class=\"dataframe\">\n",
       "  <thead>\n",
       "    <tr style=\"text-align: right;\">\n",
       "      <th></th>\n",
       "      <th>Continent Nom</th>\n",
       "      <th>continent_es</th>\n",
       "      <th>Subcontinent Nom</th>\n",
       "      <th>subcontinent_es</th>\n",
       "    </tr>\n",
       "  </thead>\n",
       "  <tbody>\n",
       "    <tr>\n",
       "      <th>0</th>\n",
       "      <td>Àsia</td>\n",
       "      <td>Asia</td>\n",
       "      <td>Àsia meridional</td>\n",
       "      <td>Asia Meridional</td>\n",
       "    </tr>\n",
       "    <tr>\n",
       "      <th>1</th>\n",
       "      <td>Europa</td>\n",
       "      <td>Europa</td>\n",
       "      <td>Unió Europea</td>\n",
       "      <td>Unión Europea</td>\n",
       "    </tr>\n",
       "    <tr>\n",
       "      <th>2</th>\n",
       "      <td>Europa</td>\n",
       "      <td>Europa</td>\n",
       "      <td>Europa (no UE)</td>\n",
       "      <td>Europa (no UE)</td>\n",
       "    </tr>\n",
       "    <tr>\n",
       "      <th>4</th>\n",
       "      <td>Àfrica</td>\n",
       "      <td>África</td>\n",
       "      <td>Àfrica septentrional</td>\n",
       "      <td>África del Norte</td>\n",
       "    </tr>\n",
       "    <tr>\n",
       "      <th>6</th>\n",
       "      <td>Àfrica</td>\n",
       "      <td>África</td>\n",
       "      <td>Àfrica central</td>\n",
       "      <td>África Central</td>\n",
       "    </tr>\n",
       "  </tbody>\n",
       "</table>\n",
       "</div>"
      ],
      "text/plain": [
       "  Continent Nom continent_es      Subcontinent Nom   subcontinent_es\n",
       "0          Àsia         Asia       Àsia meridional   Asia Meridional\n",
       "1        Europa       Europa          Unió Europea     Unión Europea\n",
       "2        Europa       Europa        Europa (no UE)    Europa (no UE)\n",
       "4        Àfrica       África  Àfrica septentrional  África del Norte\n",
       "6        Àfrica       África        Àfrica central    África Central"
      ]
     },
     "execution_count": 30,
     "metadata": {},
     "output_type": "execute_result"
    }
   ],
   "source": [
    "continent_map = {\n",
    "    'Àsia':'Asia',\n",
    "    'Europa':'Europa',\n",
    "    'Àfrica':'África',\n",
    "    'Amèrica':'América',\n",
    "    'Antàrtida i territoris propers':'Antártida y territorios cercanos',\n",
    "    'Oceania':'Oceanía',\n",
    "    'No consta':'No consta',\n",
    "    'Altres/Diversos':'Otros/Diversos'\n",
    "}\n",
    "\n",
    "subcontinent_map = {\n",
    "    'Àsia meridional':'Asia Meridional',\n",
    "    'Unió Europea':'Unión Europea',\n",
    "    'Europa (no UE)':'Europa (no UE)',\n",
    "    'Àfrica septentrional':'África del Norte',\n",
    "    'Àfrica central':'África Central',\n",
    "    'Carib':'Caribe',\n",
    "    'Antàrtida i territoris propers': 'Antártida y territorios cercanos',\n",
    "    'Àsia occidental':'Asia Occidental',\n",
    "    'Amèrica del Sud':'América del Sur',\n",
    "    'Austràlia i Nova Zelanda':   'Australia y Nueva Zelanda',\n",
    "    'Amèrica Central':'América Central',\n",
    "    'Àfrica occidental':'África Occidental',\n",
    "    'Amèrica del Nord':'América del Norte',\n",
    "    'Àfrica meridional':'África Meridional',\n",
    "    'Àsia sud-oriental':'Asia Sudoriental',\n",
    "    'Àfrica oriental':'África Oriental',\n",
    "    'Àsia oriental':'Asia Oriental',\n",
    "    'Melanèsia':'Melanesia',\n",
    "    'Micronèsia':'Micronesia',\n",
    "    'Polinèsia':'Polinesia',\n",
    "    'Àsia central':'Asia Central',\n",
    "    'No consta':'No consta',\n",
    "    'Altres/Diversos':'Otros/Diversos'\n",
    "}\n",
    "\n",
    "# Aplicar la traducción\n",
    "df_geo['subcontinent_es'] = df_geo['Subcontinent Nom'].map(subcontinent_map)\n",
    "\n",
    "\n",
    "# Aplicar traducción\n",
    "df_geo['continent_es']    = df_geo['Continent Nom'].map(continent_map)\n",
    "df_geo['subcontinent_es'] = df_geo['Subcontinent Nom'].map(subcontinent_map)\n",
    "\n",
    "# Verificar\n",
    "df_geo[['Continent Nom','continent_es','Subcontinent Nom','subcontinent_es']].drop_duplicates().head()\n"
   ]
  },
  {
   "cell_type": "markdown",
   "id": "0e883c0a",
   "metadata": {},
   "source": [
    "### 3. Conexión a la base de datos\n",
    "\n",
    "Abrimos una conexión a MySQL usando `pymysql`, con la bandera `MULTI_STATEMENTS` para permitir múltiples sentencias.\n"
   ]
  },
  {
   "cell_type": "code",
   "execution_count": 31,
   "id": "c2905561",
   "metadata": {},
   "outputs": [],
   "source": [
    "# 1) Conexión sin especificar 'database'\n",
    "conexion = pymysql.connect(\n",
    "    host=DB_HOST,\n",
    "    user=DB_USER,\n",
    "    password=DB_PASSWORD,\n",
    "    database=DB_NAME,\n",
    "    client_flag=CLIENT.MULTI_STATEMENTS\n",
    ")\n",
    "cursor = conexion.cursor()"
   ]
  },
  {
   "cell_type": "markdown",
   "id": "a3c4c044",
   "metadata": {},
   "source": [
    "### 4. Inserción de Continentes\n",
    "\n",
    "Extraemos los continentes únicos, asignamos su `id` (tal como vienen en el CSV) y los insertamos."
   ]
  },
  {
   "cell_type": "code",
   "execution_count": 32,
   "id": "e03c8d02",
   "metadata": {},
   "outputs": [
    {
     "name": "stdout",
     "output_type": "stream",
     "text": [
      "Continentes insertados: 8\n"
     ]
    }
   ],
   "source": [
    "# 1) Extraer y desduplicar\n",
    "continentes = df_geo[['Continent Codi', 'continent_es']].drop_duplicates()\n",
    "\n",
    "# 2) Filtrar filas con código o nombre nulo\n",
    "continentes = continentes.dropna(subset=['Continent Codi', 'continent_es'])\n",
    "\n",
    "# 3) Convertir el código a entero\n",
    "continentes['Continent Codi'] = continentes['Continent Codi'].astype(int)\n",
    "\n",
    "# 4) Ahora sí, preparar los datos y ejecutar el INSERT\n",
    "sql_ins_cont = \"INSERT INTO Continentes (id, nombre) VALUES (%s, %s)\"\n",
    "data = list(zip(\n",
    "    continentes['Continent Codi'],\n",
    "    continentes['continent_es']\n",
    "))\n",
    "cursor.executemany(sql_ins_cont, data)\n",
    "conexion.commit()\n",
    "print(\"Continentes insertados:\", len(data))\n"
   ]
  },
  {
   "cell_type": "markdown",
   "id": "304afaea",
   "metadata": {},
   "source": [
    "### 5. Inserción de Subcontinentes\n",
    "\n",
    "Extraemos subcontinentes únicos, referenciando al continente padre, y los insertamos."
   ]
  },
  {
   "cell_type": "code",
   "execution_count": 33,
   "id": "5eb2901a",
   "metadata": {},
   "outputs": [
    {
     "name": "stdout",
     "output_type": "stream",
     "text": [
      "Subcontinentes insertados: 23\n"
     ]
    }
   ],
   "source": [
    "subcontinentes = df_geo[['Subcontinent Codi','subcontinent_es','Continent Codi']].drop_duplicates()\n",
    "sql_ins_sub = \"\"\"\n",
    "INSERT INTO Subcontinentes (id, nombre, continente_id)\n",
    "VALUES (%s, %s, %s)\n",
    "\"\"\"\n",
    "cursor.executemany(sql_ins_sub,\n",
    "    list(zip(subcontinentes['Subcontinent Codi'],\n",
    "             subcontinentes['subcontinent_es'],\n",
    "             subcontinentes['Continent Codi'])))\n",
    "conexion.commit()\n",
    "print(\"Subcontinentes insertados:\", len(subcontinentes))\n"
   ]
  },
  {
   "cell_type": "markdown",
   "id": "b7b22ddd",
   "metadata": {},
   "source": [
    "### 6. Inserción de Países\n",
    "\n",
    "Por último, insertamos cada país con su código, nombre en castellano y la referencia al subcontinente."
   ]
  },
  {
   "cell_type": "code",
   "execution_count": 34,
   "id": "3e025c21",
   "metadata": {},
   "outputs": [
    {
     "name": "stdout",
     "output_type": "stream",
     "text": [
      "Países insertados: 250\n"
     ]
    }
   ],
   "source": [
    "paises = df_geo[['Codi','Nom en castellà', 'Nom en anglès','Subcontinent Codi']].drop_duplicates()\n",
    "\n",
    "paises = paises.dropna(subset=['Codi','Nom en castellà','Nom en anglès','Subcontinent Codi'])\n",
    "\n",
    "paises['Codi'] = paises['Codi'].astype(str)\n",
    "paises['Subcontinent Codi'] = paises['Subcontinent Codi'].astype(int)\n",
    "paises['Nom en anglès'] = paises['Nom en anglès'] \\\n",
    "    .str.replace(r'\\s*\\(the\\)$', '', regex=True)\n",
    "\n",
    "data = list(zip(\n",
    "    paises['Codi'],\n",
    "    paises['Nom en castellà'],\n",
    "    paises['Nom en anglès'],\n",
    "    paises['Subcontinent Codi']\n",
    "))\n",
    "\n",
    "sql_ins_pais = \"\"\"\n",
    "INSERT INTO Paises (codigo, nombre, nombre_en, subcontinente_id)\n",
    "VALUES (%s, %s, %s, %s)\n",
    "\"\"\"\n",
    "cursor.executemany(sql_ins_pais, data)\n",
    "conexion.commit()\n",
    "\n",
    "print(\"Países insertados:\", len(data))\n"
   ]
  },
  {
   "cell_type": "markdown",
   "id": "8ccdfe7c",
   "metadata": {},
   "source": [
    "### 7. Cierre de la conexión\n",
    "\n",
    "Cerramos el cursor y la conexión a la base de datos."
   ]
  },
  {
   "cell_type": "code",
   "execution_count": 35,
   "id": "247ac1c2",
   "metadata": {},
   "outputs": [
    {
     "name": "stdout",
     "output_type": "stream",
     "text": [
      "Conexión cerrada.\n"
     ]
    }
   ],
   "source": [
    "cursor.close()\n",
    "conexion.close()\n",
    "print(\"Conexión cerrada.\")"
   ]
  }
 ],
 "metadata": {
  "kernelspec": {
   "display_name": "venv (3.13.6)",
   "language": "python",
   "name": "python3"
  },
  "language_info": {
   "codemirror_mode": {
    "name": "ipython",
    "version": 3
   },
   "file_extension": ".py",
   "mimetype": "text/x-python",
   "name": "python",
   "nbconvert_exporter": "python",
   "pygments_lexer": "ipython3",
   "version": "3.13.6"
  }
 },
 "nbformat": 4,
 "nbformat_minor": 5
}
