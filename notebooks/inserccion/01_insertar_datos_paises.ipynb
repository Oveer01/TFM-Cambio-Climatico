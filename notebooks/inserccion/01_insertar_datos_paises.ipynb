{
 "cells": [
  {
   "cell_type": "markdown",
   "id": "61898b75",
   "metadata": {},
   "source": [
    "# Importación de los países en la base de datos"
   ]
  },
  {
   "cell_type": "markdown",
   "id": "87e468ad",
   "metadata": {},
   "source": [
    "### 1. Importar librerías y cargar datos\n",
    "\n",
    "En esta sección importamos las librerías necesarias (`pandas`, `os`, `dotenv` y `pymysql`), cargamos las variables de entorno desde un archivo `.env` y leemos el CSV con la información de países, subcontinentes y continentes.\n"
   ]
  },
  {
   "cell_type": "code",
   "execution_count": 7,
   "id": "1a244424",
   "metadata": {},
   "outputs": [
    {
     "data": {
      "text/html": [
       "<div>\n",
       "<style scoped>\n",
       "    .dataframe tbody tr th:only-of-type {\n",
       "        vertical-align: middle;\n",
       "    }\n",
       "\n",
       "    .dataframe tbody tr th {\n",
       "        vertical-align: top;\n",
       "    }\n",
       "\n",
       "    .dataframe thead th {\n",
       "        text-align: right;\n",
       "    }\n",
       "</style>\n",
       "<table border=\"1\" class=\"dataframe\">\n",
       "  <thead>\n",
       "    <tr style=\"text-align: right;\">\n",
       "      <th></th>\n",
       "      <th>Codi</th>\n",
       "      <th>Nom</th>\n",
       "      <th>Codi A3</th>\n",
       "      <th>Codi Divisa</th>\n",
       "      <th>Codi Regió UN M49</th>\n",
       "      <th>Continent Codi</th>\n",
       "      <th>Continent Nom</th>\n",
       "      <th>Subcontinent Codi</th>\n",
       "      <th>Subcontinent Nom</th>\n",
       "      <th>Nom en anglès</th>\n",
       "      <th>Nom en castellà</th>\n",
       "    </tr>\n",
       "  </thead>\n",
       "  <tbody>\n",
       "    <tr>\n",
       "      <th>0</th>\n",
       "      <td>AF</td>\n",
       "      <td>Afganistan</td>\n",
       "      <td>AFG</td>\n",
       "      <td>AFN</td>\n",
       "      <td>34</td>\n",
       "      <td>4</td>\n",
       "      <td>Àsia</td>\n",
       "      <td>12</td>\n",
       "      <td>Àsia meridional</td>\n",
       "      <td>Afghanistan</td>\n",
       "      <td>Afganistán</td>\n",
       "    </tr>\n",
       "    <tr>\n",
       "      <th>1</th>\n",
       "      <td>AX</td>\n",
       "      <td>Aland</td>\n",
       "      <td>ALA</td>\n",
       "      <td>EUR</td>\n",
       "      <td>154</td>\n",
       "      <td>5</td>\n",
       "      <td>Europa</td>\n",
       "      <td>17</td>\n",
       "      <td>Unió Europea</td>\n",
       "      <td>Aland Islands</td>\n",
       "      <td>Islas Aland</td>\n",
       "    </tr>\n",
       "    <tr>\n",
       "      <th>2</th>\n",
       "      <td>AL</td>\n",
       "      <td>Albània</td>\n",
       "      <td>ALB</td>\n",
       "      <td>ALL</td>\n",
       "      <td>39</td>\n",
       "      <td>5</td>\n",
       "      <td>Europa</td>\n",
       "      <td>16</td>\n",
       "      <td>Europa (no UE)</td>\n",
       "      <td>Albania</td>\n",
       "      <td>Albania</td>\n",
       "    </tr>\n",
       "    <tr>\n",
       "      <th>3</th>\n",
       "      <td>DE</td>\n",
       "      <td>Alemanya</td>\n",
       "      <td>DEU</td>\n",
       "      <td>EUR</td>\n",
       "      <td>155</td>\n",
       "      <td>5</td>\n",
       "      <td>Europa</td>\n",
       "      <td>17</td>\n",
       "      <td>Unió Europea</td>\n",
       "      <td>Germany</td>\n",
       "      <td>Alemania</td>\n",
       "    </tr>\n",
       "    <tr>\n",
       "      <th>4</th>\n",
       "      <td>DZ</td>\n",
       "      <td>Algèria</td>\n",
       "      <td>DZA</td>\n",
       "      <td>DZD</td>\n",
       "      <td>15</td>\n",
       "      <td>1</td>\n",
       "      <td>Àfrica</td>\n",
       "      <td>5</td>\n",
       "      <td>Àfrica septentrional</td>\n",
       "      <td>Algeria</td>\n",
       "      <td>Argelia</td>\n",
       "    </tr>\n",
       "  </tbody>\n",
       "</table>\n",
       "</div>"
      ],
      "text/plain": [
       "  Codi         Nom Codi A3 Codi Divisa  Codi Regió UN M49  Continent Codi  \\\n",
       "0   AF  Afganistan     AFG         AFN                 34               4   \n",
       "1   AX       Aland     ALA         EUR                154               5   \n",
       "2   AL     Albània     ALB         ALL                 39               5   \n",
       "3   DE    Alemanya     DEU         EUR                155               5   \n",
       "4   DZ     Algèria     DZA         DZD                 15               1   \n",
       "\n",
       "  Continent Nom  Subcontinent Codi      Subcontinent Nom  Nom en anglès  \\\n",
       "0          Àsia                 12       Àsia meridional    Afghanistan   \n",
       "1        Europa                 17          Unió Europea  Aland Islands   \n",
       "2        Europa                 16        Europa (no UE)        Albania   \n",
       "3        Europa                 17          Unió Europea        Germany   \n",
       "4        Àfrica                  5  Àfrica septentrional        Algeria   \n",
       "\n",
       "  Nom en castellà  \n",
       "0      Afganistán  \n",
       "1     Islas Aland  \n",
       "2         Albania  \n",
       "3        Alemania  \n",
       "4         Argelia  "
      ]
     },
     "execution_count": 7,
     "metadata": {},
     "output_type": "execute_result"
    }
   ],
   "source": [
    "import os\n",
    "from dotenv import load_dotenv\n",
    "import pandas as pd\n",
    "import pymysql\n",
    "from pymysql.constants import CLIENT\n",
    " \n",
    "load_dotenv()\n",
    "DB_HOST     = os.getenv('DB_HOST')\n",
    "DB_USER     = os.getenv('DB_USER')\n",
    "DB_PASSWORD = os.getenv('DB_PASSWORD')\n",
    "DB_NAME     = os.getenv('DB_NAME')\n",
    "\n",
    "df_geo = pd.read_csv('../../data/fuentes/paises/Pa_sos.csv')\n",
    "df_geo.head()\n"
   ]
  },
  {
   "cell_type": "markdown",
   "id": "793d82f1",
   "metadata": {},
   "source": [
    "### 2. Traducción de nombres\n",
    "\n",
    "Los campos `Continent Nom` y `Subcontinent Nom` están en catalán. Definimos diccionarios de traducción y creamos nuevas columnas en castellano.\n"
   ]
  },
  {
   "cell_type": "code",
   "execution_count": 8,
   "id": "d310c77e",
   "metadata": {},
   "outputs": [
    {
     "data": {
      "text/html": [
       "<div>\n",
       "<style scoped>\n",
       "    .dataframe tbody tr th:only-of-type {\n",
       "        vertical-align: middle;\n",
       "    }\n",
       "\n",
       "    .dataframe tbody tr th {\n",
       "        vertical-align: top;\n",
       "    }\n",
       "\n",
       "    .dataframe thead th {\n",
       "        text-align: right;\n",
       "    }\n",
       "</style>\n",
       "<table border=\"1\" class=\"dataframe\">\n",
       "  <thead>\n",
       "    <tr style=\"text-align: right;\">\n",
       "      <th></th>\n",
       "      <th>Continent Nom</th>\n",
       "      <th>continent_es</th>\n",
       "    </tr>\n",
       "  </thead>\n",
       "  <tbody>\n",
       "    <tr>\n",
       "      <th>0</th>\n",
       "      <td>Àsia</td>\n",
       "      <td>Asia</td>\n",
       "    </tr>\n",
       "    <tr>\n",
       "      <th>1</th>\n",
       "      <td>Europa</td>\n",
       "      <td>Europa</td>\n",
       "    </tr>\n",
       "    <tr>\n",
       "      <th>4</th>\n",
       "      <td>Àfrica</td>\n",
       "      <td>África</td>\n",
       "    </tr>\n",
       "    <tr>\n",
       "      <th>7</th>\n",
       "      <td>Amèrica</td>\n",
       "      <td>América</td>\n",
       "    </tr>\n",
       "    <tr>\n",
       "      <th>8</th>\n",
       "      <td>Antàrtida i territoris propers</td>\n",
       "      <td>Antártida y territorios cercanos</td>\n",
       "    </tr>\n",
       "  </tbody>\n",
       "</table>\n",
       "</div>"
      ],
      "text/plain": [
       "                    Continent Nom                      continent_es\n",
       "0                            Àsia                              Asia\n",
       "1                          Europa                            Europa\n",
       "4                          Àfrica                            África\n",
       "7                         Amèrica                           América\n",
       "8  Antàrtida i territoris propers  Antártida y territorios cercanos"
      ]
     },
     "execution_count": 8,
     "metadata": {},
     "output_type": "execute_result"
    }
   ],
   "source": [
    "continent_map = {\n",
    "    'Àsia':'Asia',\n",
    "    'Europa':'Europa',\n",
    "    'Àfrica':'África',\n",
    "    'Amèrica':'América',\n",
    "    'Antàrtida i territoris propers':'Antártida y territorios cercanos',\n",
    "    'Oceania':'Oceanía'\n",
    "}\n",
    "\n",
    "# Aplicar traducción\n",
    "df_geo['continent_es']= df_geo['Continent Nom'].map(continent_map)\n",
    "\n",
    "# Verificar\n",
    "df_geo[['Continent Nom','continent_es']].drop_duplicates().head()\n"
   ]
  },
  {
   "cell_type": "markdown",
   "id": "0e883c0a",
   "metadata": {},
   "source": [
    "### 3. Conexión a la base de datos\n",
    "\n",
    "Abrimos una conexión a MySQL usando `pymysql`, con la bandera `MULTI_STATEMENTS` para permitir múltiples sentencias.\n"
   ]
  },
  {
   "cell_type": "code",
   "execution_count": 9,
   "id": "c2905561",
   "metadata": {},
   "outputs": [],
   "source": [
    "# 1) Conexión\n",
    "conexion = pymysql.connect(\n",
    "    host=DB_HOST,\n",
    "    user=DB_USER,\n",
    "    password=DB_PASSWORD,\n",
    "    database=DB_NAME,\n",
    "    client_flag=CLIENT.MULTI_STATEMENTS\n",
    ")\n",
    "cursor = conexion.cursor()"
   ]
  },
  {
   "cell_type": "markdown",
   "id": "a3c4c044",
   "metadata": {},
   "source": [
    "### 4. Inserción de Continentes\n",
    "\n",
    "Extraemos los continentes únicos, asignamos su `id` (tal como vienen en el CSV) y los insertamos."
   ]
  },
  {
   "cell_type": "code",
   "execution_count": 10,
   "id": "e03c8d02",
   "metadata": {},
   "outputs": [
    {
     "name": "stdout",
     "output_type": "stream",
     "text": [
      "    Continent Codi                      continent_es\n",
      "0                4                              Asia\n",
      "1                5                            Europa\n",
      "4                1                            África\n",
      "7                2                           América\n",
      "8                3  Antártida y territorios cercanos\n",
      "14               6                           Oceanía\n",
      "Continentes insertados: 6\n"
     ]
    }
   ],
   "source": [
    "# 1) Extraer y desduplicar\n",
    "continentes = df_geo[['Continent Codi', 'continent_es']].drop_duplicates() \n",
    "# 2) Filtrar filas con código o nombre nulo\n",
    "continentes = continentes.dropna(subset=['Continent Codi', 'continent_es']) \n",
    "# 3) Convertir el código a entero\n",
    "continentes['Continent Codi'] = continentes['Continent Codi'].astype(int) \n",
    "# 4) Ahora sí, preparar los datos y ejecutar el INSERT\n",
    "sql_ins_cont = \"INSERT INTO Continentes (id, nombre) VALUES (%s, %s)\" \n",
    "print(continentes) \n",
    "data = list(zip( continentes['Continent Codi'], continentes['continent_es'] )) \n",
    "cursor.executemany(sql_ins_cont, data) \n",
    "conexion.commit() \n",
    "print(\"Continentes insertados:\", len(data))"
   ]
  },
  {
   "cell_type": "markdown",
   "id": "b7b22ddd",
   "metadata": {},
   "source": [
    "### 5. Inserción de Países\n",
    "\n",
    "Por último, insertamos cada país con su código, nombre en castellano y la referencia al subcontinente."
   ]
  },
  {
   "cell_type": "code",
   "execution_count": 11,
   "id": "3e025c21",
   "metadata": {},
   "outputs": [
    {
     "name": "stdout",
     "output_type": "stream",
     "text": [
      "Países insertados: 248\n"
     ]
    }
   ],
   "source": [
    "paises = df_geo[['Codi','Nom en castellà', 'Nom en anglès','Continent Codi']].drop_duplicates()\n",
    "paises = paises.dropna(subset=['Codi','Nom en castellà','Nom en anglès','Continent Codi'])\n",
    "paises['Codi'] = paises['Codi'].astype(str) \n",
    "paises['Continent Codi'] = paises['Continent Codi'].astype(int)\n",
    "paises['Nom en anglès'] = paises['Nom en anglès'] .str.replace(r'\\s*\\(the\\)$', '', regex=True) \n",
    "# 🔹 Filtrar países no deseados\n",
    "paises = paises[~paises['Nom en castellà'].isin(['Otros/Varios', 'No consta'])]\n",
    "data = list(zip( paises['Codi'], paises['Nom en castellà'], paises['Nom en anglès'], paises['Continent Codi'] ))\n",
    "sql_ins_pais = \"\"\" INSERT INTO Paises (codigo, nombre, nombre_en, continente_id) VALUES (%s, %s, %s, %s) \"\"\"\n",
    "cursor.executemany(sql_ins_pais, data)\n",
    "conexion.commit()\n",
    "print(\"Países insertados:\", len(data))"
   ]
  },
  {
   "cell_type": "markdown",
   "id": "8ccdfe7c",
   "metadata": {},
   "source": [
    "### 7. Cierre de la conexión\n",
    "\n",
    "Cerramos el cursor y la conexión a la base de datos."
   ]
  },
  {
   "cell_type": "code",
   "execution_count": 12,
   "id": "247ac1c2",
   "metadata": {},
   "outputs": [
    {
     "name": "stdout",
     "output_type": "stream",
     "text": [
      "Conexión cerrada.\n"
     ]
    }
   ],
   "source": [
    "cursor.close()\n",
    "conexion.close()\n",
    "print(\"Conexión cerrada.\")"
   ]
  }
 ],
 "metadata": {
  "kernelspec": {
   "display_name": "venv (3.13.6)",
   "language": "python",
   "name": "python3"
  },
  "language_info": {
   "codemirror_mode": {
    "name": "ipython",
    "version": 3
   },
   "file_extension": ".py",
   "mimetype": "text/x-python",
   "name": "python",
   "nbconvert_exporter": "python",
   "pygments_lexer": "ipython3",
   "version": "3.13.7"
  }
 },
 "nbformat": 4,
 "nbformat_minor": 5
}
