{
 "cells": [
  {
   "cell_type": "markdown",
   "id": "61898b75",
   "metadata": {},
   "source": [
    "# Impotación de los países en la base de datos"
   ]
  },
  {
   "cell_type": "markdown",
   "id": "87e468ad",
   "metadata": {},
   "source": [
    "### 1. Importar librerías y cargar datos\n",
    "\n",
    "En esta sección importamos las librerías necesarias (`pandas`, `os`, `dotenv` y `pymysql`), cargamos las variables de entorno desde un archivo `.env` y leemos el CSV con la información de países, subcontinentes y continentes.\n"
   ]
  },
  {
   "cell_type": "code",
   "execution_count": 1,
   "id": "1a244424",
   "metadata": {},
   "outputs": [
    {
     "data": {
      "application/vnd.microsoft.datawrangler.viewer.v0+json": {
       "columns": [
        {
         "name": "index",
         "rawType": "int64",
         "type": "integer"
        },
        {
         "name": "Codi",
         "rawType": "object",
         "type": "string"
        },
        {
         "name": "Nom",
         "rawType": "object",
         "type": "string"
        },
        {
         "name": "Codi A3",
         "rawType": "object",
         "type": "string"
        },
        {
         "name": "Codi Divisa",
         "rawType": "object",
         "type": "string"
        },
        {
         "name": "Codi Regió UN M49",
         "rawType": "int64",
         "type": "integer"
        },
        {
         "name": "Continent Codi",
         "rawType": "int64",
         "type": "integer"
        },
        {
         "name": "Continent Nom",
         "rawType": "object",
         "type": "string"
        },
        {
         "name": "Subcontinent Codi",
         "rawType": "int64",
         "type": "integer"
        },
        {
         "name": "Subcontinent Nom",
         "rawType": "object",
         "type": "string"
        },
        {
         "name": "Nom en anglès",
         "rawType": "object",
         "type": "string"
        },
        {
         "name": "Nom en castellà",
         "rawType": "object",
         "type": "string"
        }
       ],
       "conversionMethod": "pd.DataFrame",
       "ref": "d27ea9a9-cc17-48ea-aaf4-4f74443590d3",
       "rows": [
        [
         "0",
         "AF",
         "Afganistan",
         "AFG",
         "AFN",
         "34",
         "4",
         "Àsia",
         "12",
         "Àsia meridional",
         "Afghanistan",
         "Afganistán"
        ],
        [
         "1",
         "AX",
         "Aland",
         "ALA",
         "EUR",
         "154",
         "5",
         "Europa",
         "17",
         "Unió Europea",
         "Aland Islands",
         "Islas Aland"
        ],
        [
         "2",
         "AL",
         "Albània",
         "ALB",
         "ALL",
         "39",
         "5",
         "Europa",
         "16",
         "Europa (no UE)",
         "Albania",
         "Albania"
        ],
        [
         "3",
         "DE",
         "Alemanya",
         "DEU",
         "EUR",
         "155",
         "5",
         "Europa",
         "17",
         "Unió Europea",
         "Germany",
         "Alemania"
        ],
        [
         "4",
         "DZ",
         "Algèria",
         "DZA",
         "DZD",
         "15",
         "1",
         "Àfrica",
         "5",
         "Àfrica septentrional",
         "Algeria",
         "Argelia"
        ]
       ],
       "shape": {
        "columns": 11,
        "rows": 5
       }
      },
      "text/html": [
       "<div>\n",
       "<style scoped>\n",
       "    .dataframe tbody tr th:only-of-type {\n",
       "        vertical-align: middle;\n",
       "    }\n",
       "\n",
       "    .dataframe tbody tr th {\n",
       "        vertical-align: top;\n",
       "    }\n",
       "\n",
       "    .dataframe thead th {\n",
       "        text-align: right;\n",
       "    }\n",
       "</style>\n",
       "<table border=\"1\" class=\"dataframe\">\n",
       "  <thead>\n",
       "    <tr style=\"text-align: right;\">\n",
       "      <th></th>\n",
       "      <th>Codi</th>\n",
       "      <th>Nom</th>\n",
       "      <th>Codi A3</th>\n",
       "      <th>Codi Divisa</th>\n",
       "      <th>Codi Regió UN M49</th>\n",
       "      <th>Continent Codi</th>\n",
       "      <th>Continent Nom</th>\n",
       "      <th>Subcontinent Codi</th>\n",
       "      <th>Subcontinent Nom</th>\n",
       "      <th>Nom en anglès</th>\n",
       "      <th>Nom en castellà</th>\n",
       "    </tr>\n",
       "  </thead>\n",
       "  <tbody>\n",
       "    <tr>\n",
       "      <th>0</th>\n",
       "      <td>AF</td>\n",
       "      <td>Afganistan</td>\n",
       "      <td>AFG</td>\n",
       "      <td>AFN</td>\n",
       "      <td>34</td>\n",
       "      <td>4</td>\n",
       "      <td>Àsia</td>\n",
       "      <td>12</td>\n",
       "      <td>Àsia meridional</td>\n",
       "      <td>Afghanistan</td>\n",
       "      <td>Afganistán</td>\n",
       "    </tr>\n",
       "    <tr>\n",
       "      <th>1</th>\n",
       "      <td>AX</td>\n",
       "      <td>Aland</td>\n",
       "      <td>ALA</td>\n",
       "      <td>EUR</td>\n",
       "      <td>154</td>\n",
       "      <td>5</td>\n",
       "      <td>Europa</td>\n",
       "      <td>17</td>\n",
       "      <td>Unió Europea</td>\n",
       "      <td>Aland Islands</td>\n",
       "      <td>Islas Aland</td>\n",
       "    </tr>\n",
       "    <tr>\n",
       "      <th>2</th>\n",
       "      <td>AL</td>\n",
       "      <td>Albània</td>\n",
       "      <td>ALB</td>\n",
       "      <td>ALL</td>\n",
       "      <td>39</td>\n",
       "      <td>5</td>\n",
       "      <td>Europa</td>\n",
       "      <td>16</td>\n",
       "      <td>Europa (no UE)</td>\n",
       "      <td>Albania</td>\n",
       "      <td>Albania</td>\n",
       "    </tr>\n",
       "    <tr>\n",
       "      <th>3</th>\n",
       "      <td>DE</td>\n",
       "      <td>Alemanya</td>\n",
       "      <td>DEU</td>\n",
       "      <td>EUR</td>\n",
       "      <td>155</td>\n",
       "      <td>5</td>\n",
       "      <td>Europa</td>\n",
       "      <td>17</td>\n",
       "      <td>Unió Europea</td>\n",
       "      <td>Germany</td>\n",
       "      <td>Alemania</td>\n",
       "    </tr>\n",
       "    <tr>\n",
       "      <th>4</th>\n",
       "      <td>DZ</td>\n",
       "      <td>Algèria</td>\n",
       "      <td>DZA</td>\n",
       "      <td>DZD</td>\n",
       "      <td>15</td>\n",
       "      <td>1</td>\n",
       "      <td>Àfrica</td>\n",
       "      <td>5</td>\n",
       "      <td>Àfrica septentrional</td>\n",
       "      <td>Algeria</td>\n",
       "      <td>Argelia</td>\n",
       "    </tr>\n",
       "  </tbody>\n",
       "</table>\n",
       "</div>"
      ],
      "text/plain": [
       "  Codi         Nom Codi A3 Codi Divisa  Codi Regió UN M49  Continent Codi  \\\n",
       "0   AF  Afganistan     AFG         AFN                 34               4   \n",
       "1   AX       Aland     ALA         EUR                154               5   \n",
       "2   AL     Albània     ALB         ALL                 39               5   \n",
       "3   DE    Alemanya     DEU         EUR                155               5   \n",
       "4   DZ     Algèria     DZA         DZD                 15               1   \n",
       "\n",
       "  Continent Nom  Subcontinent Codi      Subcontinent Nom  Nom en anglès  \\\n",
       "0          Àsia                 12       Àsia meridional    Afghanistan   \n",
       "1        Europa                 17          Unió Europea  Aland Islands   \n",
       "2        Europa                 16        Europa (no UE)        Albania   \n",
       "3        Europa                 17          Unió Europea        Germany   \n",
       "4        Àfrica                  5  Àfrica septentrional        Algeria   \n",
       "\n",
       "  Nom en castellà  \n",
       "0      Afganistán  \n",
       "1     Islas Aland  \n",
       "2         Albania  \n",
       "3        Alemania  \n",
       "4         Argelia  "
      ]
     },
     "execution_count": 1,
     "metadata": {},
     "output_type": "execute_result"
    }
   ],
   "source": [
    "import os\n",
    "from dotenv import load_dotenv\n",
    "import pandas as pd\n",
    "import pymysql\n",
    "from pymysql.constants import CLIENT\n",
    " \n",
    "load_dotenv()\n",
    "DB_HOST     = os.getenv('DB_HOST')\n",
    "DB_USER     = os.getenv('DB_USER')\n",
    "DB_PASSWORD = os.getenv('DB_PASSWORD')\n",
    "DB_NAME     = os.getenv('DB_NAME')\n",
    "\n",
    "df_geo = pd.read_csv('./data/Pa_sos.csv')\n",
    "df_geo.head()\n"
   ]
  },
  {
   "cell_type": "markdown",
   "id": "793d82f1",
   "metadata": {},
   "source": [
    "### 2. Traducción de nombres\n",
    "\n",
    "Los campos `Continent Nom` y `Subcontinent Nom` están en catalán. Definimos diccionarios de traducción y creamos nuevas columnas en castellano.\n"
   ]
  },
  {
   "cell_type": "code",
   "execution_count": 2,
   "id": "d310c77e",
   "metadata": {},
   "outputs": [
    {
     "data": {
      "application/vnd.microsoft.datawrangler.viewer.v0+json": {
       "columns": [
        {
         "name": "index",
         "rawType": "int64",
         "type": "integer"
        },
        {
         "name": "Continent Nom",
         "rawType": "object",
         "type": "string"
        },
        {
         "name": "continent_es",
         "rawType": "object",
         "type": "string"
        },
        {
         "name": "Subcontinent Nom",
         "rawType": "object",
         "type": "string"
        },
        {
         "name": "subcontinent_es",
         "rawType": "object",
         "type": "string"
        }
       ],
       "conversionMethod": "pd.DataFrame",
       "ref": "e2c93c2e-b73c-4c27-9fc5-69b810eaa4cd",
       "rows": [
        [
         "0",
         "Àsia",
         "Asia",
         "Àsia meridional",
         "Asia Meridional"
        ],
        [
         "1",
         "Europa",
         "Europa",
         "Unió Europea",
         "Unión Europea"
        ],
        [
         "2",
         "Europa",
         "Europa",
         "Europa (no UE)",
         "Europa (no UE)"
        ],
        [
         "4",
         "Àfrica",
         "África",
         "Àfrica septentrional",
         "África del Norte"
        ],
        [
         "6",
         "Àfrica",
         "África",
         "Àfrica central",
         "África Central"
        ]
       ],
       "shape": {
        "columns": 4,
        "rows": 5
       }
      },
      "text/html": [
       "<div>\n",
       "<style scoped>\n",
       "    .dataframe tbody tr th:only-of-type {\n",
       "        vertical-align: middle;\n",
       "    }\n",
       "\n",
       "    .dataframe tbody tr th {\n",
       "        vertical-align: top;\n",
       "    }\n",
       "\n",
       "    .dataframe thead th {\n",
       "        text-align: right;\n",
       "    }\n",
       "</style>\n",
       "<table border=\"1\" class=\"dataframe\">\n",
       "  <thead>\n",
       "    <tr style=\"text-align: right;\">\n",
       "      <th></th>\n",
       "      <th>Continent Nom</th>\n",
       "      <th>continent_es</th>\n",
       "      <th>Subcontinent Nom</th>\n",
       "      <th>subcontinent_es</th>\n",
       "    </tr>\n",
       "  </thead>\n",
       "  <tbody>\n",
       "    <tr>\n",
       "      <th>0</th>\n",
       "      <td>Àsia</td>\n",
       "      <td>Asia</td>\n",
       "      <td>Àsia meridional</td>\n",
       "      <td>Asia Meridional</td>\n",
       "    </tr>\n",
       "    <tr>\n",
       "      <th>1</th>\n",
       "      <td>Europa</td>\n",
       "      <td>Europa</td>\n",
       "      <td>Unió Europea</td>\n",
       "      <td>Unión Europea</td>\n",
       "    </tr>\n",
       "    <tr>\n",
       "      <th>2</th>\n",
       "      <td>Europa</td>\n",
       "      <td>Europa</td>\n",
       "      <td>Europa (no UE)</td>\n",
       "      <td>Europa (no UE)</td>\n",
       "    </tr>\n",
       "    <tr>\n",
       "      <th>4</th>\n",
       "      <td>Àfrica</td>\n",
       "      <td>África</td>\n",
       "      <td>Àfrica septentrional</td>\n",
       "      <td>África del Norte</td>\n",
       "    </tr>\n",
       "    <tr>\n",
       "      <th>6</th>\n",
       "      <td>Àfrica</td>\n",
       "      <td>África</td>\n",
       "      <td>Àfrica central</td>\n",
       "      <td>África Central</td>\n",
       "    </tr>\n",
       "  </tbody>\n",
       "</table>\n",
       "</div>"
      ],
      "text/plain": [
       "  Continent Nom continent_es      Subcontinent Nom   subcontinent_es\n",
       "0          Àsia         Asia       Àsia meridional   Asia Meridional\n",
       "1        Europa       Europa          Unió Europea     Unión Europea\n",
       "2        Europa       Europa        Europa (no UE)    Europa (no UE)\n",
       "4        Àfrica       África  Àfrica septentrional  África del Norte\n",
       "6        Àfrica       África        Àfrica central    África Central"
      ]
     },
     "execution_count": 2,
     "metadata": {},
     "output_type": "execute_result"
    }
   ],
   "source": [
    "continent_map = {\n",
    "    'Àsia':                             'Asia',\n",
    "    'Europa':                           'Europa',\n",
    "    'Àfrica':                           'África',\n",
    "    'Amèrica':                          'América',\n",
    "    'Antàrtida i territoris propers':  'Antártida y territorios cercanos',\n",
    "    'Oceania':                          'Oceanía',\n",
    "    'No consta':                        'No consta',\n",
    "    'Altres/Diversos':                  'Otros/Diversos'\n",
    "}\n",
    "\n",
    "subcontinent_map = {\n",
    "    'Àsia meridional':            'Asia Meridional',\n",
    "    'Unió Europea':               'Unión Europea',\n",
    "    'Europa (no UE)':             'Europa (no UE)',\n",
    "    'Àfrica septentrional':       'África del Norte',\n",
    "    'Àfrica central':             'África Central',\n",
    "    'Carib':                      'Caribe',\n",
    "    'Antàrtida i territoris propers': 'Antártida y territorios cercanos',\n",
    "    'Àsia occidental':            'Asia Occidental',\n",
    "    'Amèrica del Sud':            'América del Sur',\n",
    "    'Austràlia i Nova Zelanda':   'Australia y Nueva Zelanda',\n",
    "    'Amèrica Central':            'América Central',\n",
    "    'Àfrica occidental':          'África Occidental',\n",
    "    'Amèrica del Nord':           'América del Norte',\n",
    "    'Àfrica meridional':          'África Meridional',\n",
    "    'Àsia sud-oriental':          'Asia Sudoriental',\n",
    "    'Àfrica oriental':            'África Oriental',\n",
    "    'Àsia oriental':              'Asia Oriental',\n",
    "    'Melanèsia':                  'Melanesia',\n",
    "    'Micronèsia':                 'Micronesia',\n",
    "    'Polinèsia':                  'Polinesia',\n",
    "    'Àsia central':               'Asia Central',\n",
    "    'No consta':                  'No consta',\n",
    "    'Altres/Diversos':            'Otros/Diversos'\n",
    "}\n",
    "\n",
    "# Aplicar la traducción\n",
    "df_geo['subcontinent_es'] = df_geo['Subcontinent Nom'].map(subcontinent_map)\n",
    "\n",
    "\n",
    "# Aplicar traducción\n",
    "df_geo['continent_es']    = df_geo['Continent Nom'].map(continent_map)\n",
    "df_geo['subcontinent_es'] = df_geo['Subcontinent Nom'].map(subcontinent_map)\n",
    "\n",
    "# Verificar\n",
    "df_geo[['Continent Nom','continent_es','Subcontinent Nom','subcontinent_es']].drop_duplicates().head()\n"
   ]
  },
  {
   "cell_type": "markdown",
   "id": "0e883c0a",
   "metadata": {},
   "source": [
    "### 3. Conexión a la base de datos\n",
    "\n",
    "Abrimos una conexión a MySQL usando `pymysql`, con la bandera `MULTI_STATEMENTS` para permitir múltiples sentencias.\n"
   ]
  },
  {
   "cell_type": "code",
   "execution_count": 3,
   "id": "c2905561",
   "metadata": {},
   "outputs": [
    {
     "name": "stdout",
     "output_type": "stream",
     "text": [
      "Esquema 'tfm_cambio_climatico' recreado correctamente.\n"
     ]
    }
   ],
   "source": [
    "# 1) Conexión sin especificar 'database'\n",
    "conn = pymysql.connect(\n",
    "    host=DB_HOST,\n",
    "    user=DB_USER,\n",
    "    password=DB_PASSWORD,\n",
    "    client_flag=CLIENT.MULTI_STATEMENTS\n",
    ")\n",
    "cur = conn.cursor()\n",
    "\n",
    "# 2) Eliminar si existía y crear la base de datos\n",
    "cur.execute(\"DROP DATABASE IF EXISTS tfm_cambio_climatico;\")\n",
    "conn.commit()\n",
    "cur.execute(\"CREATE DATABASE tfm_cambio_climatico CHARACTER SET utf8mb4 COLLATE utf8mb4_unicode_ci;\")\n",
    "conn.commit()\n",
    "\n",
    "cur.close()\n",
    "conn.close()\n",
    "print(\"Esquema 'tfm_cambio_climatico' recreado correctamente.\")\n"
   ]
  },
  {
   "cell_type": "markdown",
   "id": "e5caf880",
   "metadata": {},
   "source": [
    "### 4. Creación de tablas\n",
    "\n",
    "Definimos y ejecutamos las sentencias SQL para eliminar las tablas si existen y crear las nuevas estructuras:\n",
    "- **Continentes** (`id`, `nombre`).\n",
    "- **Subcontinentes** (`id`, `nombre`, `continente_id`).\n",
    "- **Paises** (`codigo`, `nombre`, `subcontinente_id`)."
   ]
  },
  {
   "cell_type": "code",
   "execution_count": 4,
   "id": "03511451",
   "metadata": {},
   "outputs": [
    {
     "name": "stdout",
     "output_type": "stream",
     "text": [
      "Tablas creadas correctamente con sus FKs.\n"
     ]
    }
   ],
   "source": [
    "# 3) Reconexión esta vez sí indicando la base de datos\n",
    "conexion = pymysql.connect(\n",
    "    host=DB_HOST,\n",
    "    user=DB_USER,\n",
    "    password=DB_PASSWORD,\n",
    "    database='tfm_cambio_climatico',\n",
    "    client_flag=CLIENT.MULTI_STATEMENTS\n",
    ")\n",
    "cursor = conexion.cursor()\n",
    "\n",
    "# 1) Desactivar comprobación de FKs y eliminar si existían\n",
    "cursor.execute(\"SET FOREIGN_KEY_CHECKS=0;\")\n",
    "cursor.execute(\"DROP TABLE IF EXISTS Paises;\")\n",
    "cursor.execute(\"DROP TABLE IF EXISTS Subcontinentes;\")\n",
    "cursor.execute(\"DROP TABLE IF EXISTS Continentes;\")\n",
    "cursor.execute(\"SET FOREIGN_KEY_CHECKS=1;\")\n",
    "conexion.commit()\n",
    "\n",
    "# 2) Crear Continentes\n",
    "cursor.execute(\"\"\"\n",
    "CREATE TABLE Continentes (\n",
    "    id     INT             PRIMARY KEY,\n",
    "    nombre VARCHAR(100)    NOT NULL\n",
    ") ENGINE=InnoDB\n",
    "  DEFAULT CHARSET=utf8mb4\n",
    "  COLLATE=utf8mb4_unicode_ci;\n",
    "\"\"\")\n",
    "\n",
    "# 3) Crear Subcontinentes (padre: Continentes)\n",
    "cursor.execute(\"\"\"\n",
    "CREATE TABLE Subcontinentes (\n",
    "    id             INT          PRIMARY KEY,\n",
    "    nombre         VARCHAR(100) NOT NULL,\n",
    "    continente_id  INT          NOT NULL,\n",
    "    INDEX  idx_continente (continente_id),\n",
    "    CONSTRAINT fk_subcontinentes_continentes\n",
    "      FOREIGN KEY (continente_id) REFERENCES Continentes(id)\n",
    "      ON UPDATE CASCADE ON DELETE RESTRICT\n",
    ") ENGINE=InnoDB\n",
    "  DEFAULT CHARSET=utf8mb4\n",
    "  COLLATE=utf8mb4_unicode_ci;\n",
    "\"\"\")\n",
    "\n",
    "# 4) Crear Paises (padre: Subcontinentes)\n",
    "cursor.execute(\"\"\"\n",
    "CREATE TABLE Paises (\n",
    "    codigo            VARCHAR(10)  PRIMARY KEY,\n",
    "    nombre            VARCHAR(100) NOT NULL,\n",
    "    nombre_en         VARCHAR(100) NOT NULL,\n",
    "    subcontinente_id  INT          NOT NULL,\n",
    "    INDEX  idx_subcontinente (subcontinente_id),\n",
    "    CONSTRAINT fk_paises_subcontinentes\n",
    "      FOREIGN KEY (subcontinente_id) REFERENCES Subcontinentes(id)\n",
    "      ON UPDATE CASCADE ON DELETE RESTRICT\n",
    ") ENGINE=InnoDB\n",
    "  DEFAULT CHARSET=utf8mb4\n",
    "  COLLATE=utf8mb4_unicode_ci;\n",
    "\"\"\")\n",
    "\n",
    "conexion.commit()\n",
    "print(\"Tablas creadas correctamente con sus FKs.\")"
   ]
  },
  {
   "cell_type": "markdown",
   "id": "a3c4c044",
   "metadata": {},
   "source": [
    "### 5. Inserción de Continentes\n",
    "\n",
    "Extraemos los continentes únicos, asignamos su `id` (tal como vienen en el CSV) y los insertamos."
   ]
  },
  {
   "cell_type": "code",
   "execution_count": 5,
   "id": "e03c8d02",
   "metadata": {},
   "outputs": [
    {
     "name": "stdout",
     "output_type": "stream",
     "text": [
      "Continentes insertados: 8\n"
     ]
    }
   ],
   "source": [
    "# 1) Extraer y desduplicar\n",
    "continentes = df_geo[['Continent Codi', 'continent_es']].drop_duplicates()\n",
    "\n",
    "# 2) Filtrar filas con código o nombre nulo\n",
    "continentes = continentes.dropna(subset=['Continent Codi', 'continent_es'])\n",
    "\n",
    "# 3) Convertir el código a entero\n",
    "continentes['Continent Codi'] = continentes['Continent Codi'].astype(int)\n",
    "\n",
    "# 4) Ahora sí, preparar los datos y ejecutar el INSERT\n",
    "sql_ins_cont = \"INSERT INTO Continentes (id, nombre) VALUES (%s, %s)\"\n",
    "data = list(zip(\n",
    "    continentes['Continent Codi'],\n",
    "    continentes['continent_es']\n",
    "))\n",
    "cursor.executemany(sql_ins_cont, data)\n",
    "conexion.commit()\n",
    "print(\"Continentes insertados:\", len(data))\n"
   ]
  },
  {
   "cell_type": "markdown",
   "id": "304afaea",
   "metadata": {},
   "source": [
    "### 6. Inserción de Subcontinentes\n",
    "\n",
    "Extraemos subcontinentes únicos, referenciando al continente padre, y los insertamos."
   ]
  },
  {
   "cell_type": "code",
   "execution_count": 6,
   "id": "5eb2901a",
   "metadata": {},
   "outputs": [
    {
     "name": "stdout",
     "output_type": "stream",
     "text": [
      "Subcontinentes insertados: 23\n"
     ]
    }
   ],
   "source": [
    "subcontinentes = df_geo[['Subcontinent Codi','subcontinent_es','Continent Codi']].drop_duplicates()\n",
    "sql_ins_sub = \"\"\"\n",
    "INSERT INTO Subcontinentes (id, nombre, continente_id)\n",
    "VALUES (%s, %s, %s)\n",
    "\"\"\"\n",
    "cursor.executemany(sql_ins_sub,\n",
    "    list(zip(subcontinentes['Subcontinent Codi'],\n",
    "             subcontinentes['subcontinent_es'],\n",
    "             subcontinentes['Continent Codi'])))\n",
    "conexion.commit()\n",
    "print(\"Subcontinentes insertados:\", len(subcontinentes))\n"
   ]
  },
  {
   "cell_type": "markdown",
   "id": "b7b22ddd",
   "metadata": {},
   "source": [
    "### 7. Inserción de Países\n",
    "\n",
    "Por último, insertamos cada país con su código, nombre en castellano y la referencia al subcontinente."
   ]
  },
  {
   "cell_type": "code",
   "execution_count": 7,
   "id": "3e025c21",
   "metadata": {},
   "outputs": [
    {
     "name": "stdout",
     "output_type": "stream",
     "text": [
      "Países insertados: 250\n"
     ]
    }
   ],
   "source": [
    "paises = df_geo[['Codi','Nom en castellà', 'Nom en anglès','Subcontinent Codi']].drop_duplicates()\n",
    "\n",
    "paises = paises.dropna(subset=['Codi','Nom en castellà','Nom en anglès','Subcontinent Codi'])\n",
    "\n",
    "paises['Codi'] = paises['Codi'].astype(str)\n",
    "paises['Subcontinent Codi'] = paises['Subcontinent Codi'].astype(int)\n",
    "paises['Nom en anglès'] = paises['Nom en anglès'] \\\n",
    "    .str.replace(r'\\s*\\(the\\)$', '', regex=True)\n",
    "\n",
    "data = list(zip(\n",
    "    paises['Codi'],\n",
    "    paises['Nom en castellà'],\n",
    "    paises['Nom en anglès'],\n",
    "    paises['Subcontinent Codi']\n",
    "))\n",
    "\n",
    "sql_ins_pais = \"\"\"\n",
    "INSERT INTO Paises (codigo, nombre, nombre_en, subcontinente_id)\n",
    "VALUES (%s, %s, %s, %s)\n",
    "\"\"\"\n",
    "cursor.executemany(sql_ins_pais, data)\n",
    "conexion.commit()\n",
    "\n",
    "print(\"Países insertados:\", len(data))\n"
   ]
  },
  {
   "cell_type": "markdown",
   "id": "8ccdfe7c",
   "metadata": {},
   "source": [
    "### 8. Cierre de la conexión\n",
    "\n",
    "Cerramos el cursor y la conexión a la base de datos."
   ]
  },
  {
   "cell_type": "code",
   "execution_count": 8,
   "id": "247ac1c2",
   "metadata": {},
   "outputs": [
    {
     "name": "stdout",
     "output_type": "stream",
     "text": [
      "Conexión cerrada.\n"
     ]
    }
   ],
   "source": [
    "cursor.close()\n",
    "conexion.close()\n",
    "print(\"Conexión cerrada.\")"
   ]
  }
 ],
 "metadata": {
  "kernelspec": {
   "display_name": "venv",
   "language": "python",
   "name": "python3"
  },
  "language_info": {
   "codemirror_mode": {
    "name": "ipython",
    "version": 3
   },
   "file_extension": ".py",
   "mimetype": "text/x-python",
   "name": "python",
   "nbconvert_exporter": "python",
   "pygments_lexer": "ipython3",
   "version": "3.11.9"
  }
 },
 "nbformat": 4,
 "nbformat_minor": 5
}
