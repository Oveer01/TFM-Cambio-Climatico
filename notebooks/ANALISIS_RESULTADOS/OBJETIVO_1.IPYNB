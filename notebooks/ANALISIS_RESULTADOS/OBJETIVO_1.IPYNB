{
 "cells": [
  {
   "cell_type": "markdown",
   "id": "470978ae",
   "metadata": {},
   "source": []
  },
  {
   "cell_type": "code",
   "execution_count": null,
   "id": "4c2a529a",
   "metadata": {
    "vscode": {
     "languageId": "plaintext"
    }
   },
   "outputs": [],
   "source": []
  }
 ],
 "metadata": {
  "language_info": {
   "name": "python"
  }
 },
 "nbformat": 4,
 "nbformat_minor": 5
}
