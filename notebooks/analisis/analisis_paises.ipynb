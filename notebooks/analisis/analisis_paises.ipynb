{
 "cells": [
  {
   "cell_type": "markdown",
   "metadata": {},
   "source": "# Comparativa entre Pa\u00edses\nSe analiza la evoluci\u00f3n de emisiones de CO\u2082 para varios pa\u00edses."
  },
  {
   "cell_type": "code",
   "metadata": {},
   "source": "import os\nimport pandas as pd\nimport seaborn as sns\nimport matplotlib.pyplot as plt\nimport pymysql\nfrom dotenv import load_dotenv\nload_dotenv()\nconn=pymysql.connect(host=os.getenv('DB_HOST'),user=os.getenv('DB_USER'),password=os.getenv('DB_PASSWORD'),database=os.getenv('DB_NAME'))\npaises=['ESP','DEU']\nquery=\"\nSELECT h.anio,p.nombre_en AS pais,h.valor\nFROM Hechos h\nJOIN Paises p ON h.pais_id=p.codigo\nJOIN Indicadores i ON h.indicador_id=i.id\nWHERE i.codigo='emision_co2' AND p.codigo IN (%s,%s)\nORDER BY h.anio;\n\"\ndf=pd.read_sql(query,conn,params=paises)\nconn.close()\nplt.figure(figsize=(8,4))\nsns.lineplot(data=df,x='anio',y='valor',hue='pais')\nplt.xlabel('A\u00f1o')\nplt.ylabel('Emisiones CO\u2082 (Mt)')\nplt.title('Emisiones de CO\u2082 por pa\u00eds')\nplt.tight_layout()\nplt.show()"
  }
 ],
 "metadata": {
  "kernelspec": {
   "display_name": "Python 3",
   "language": "python",
   "name": "python3"
  },
  "language_info": {
   "name": "python",
   "version": "3.11"
  }
 },
 "nbformat": 4,
 "nbformat_minor": 5
}