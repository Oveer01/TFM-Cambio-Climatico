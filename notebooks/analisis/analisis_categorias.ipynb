{
 "cells": [
  {
   "cell_type": "markdown",
   "metadata": {},
   "source": "# An\u00e1lisis por Categor\u00edas\nEste notebook explora los valores medios por categor\u00eda en la base de datos."
  },
  {
   "cell_type": "code",
   "metadata": {},
   "source": "import os\nimport pandas as pd\nimport seaborn as sns\nimport matplotlib.pyplot as plt\nimport pymysql\nfrom dotenv import load_dotenv\nload_dotenv()\nDB_HOST=os.getenv('DB_HOST')\nDB_USER=os.getenv('DB_USER')\nDB_PASSWORD=os.getenv('DB_PASSWORD')\nDB_NAME=os.getenv('DB_NAME')\nconn=pymysql.connect(host=DB_HOST,user=DB_USER,password=DB_PASSWORD,database=DB_NAME)\nquery=\"\nSELECT c.nombre AS categoria, AVG(h.valor) AS valor_medio\nFROM Hechos h\nJOIN Indicadores i ON h.indicador_id=i.id\nJOIN Categorias c ON i.categoria_id=c.id\nGROUP BY c.nombre\nORDER BY valor_medio DESC;\n\"\ndf=pd.read_sql(query,conn)\nconn.close()\nplt.figure(figsize=(8,4))\nsns.barplot(data=df,x='valor_medio',y='categoria',palette='viridis')\nplt.xlabel('Valor medio')\nplt.ylabel('Categor\u00eda')\nplt.title('Valor medio por categor\u00eda')\nplt.tight_layout()\nplt.show()"
  }
 ],
 "metadata": {
  "kernelspec": {
   "display_name": "Python 3",
   "language": "python",
   "name": "python3"
  },
  "language_info": {
   "name": "python",
   "version": "3.11"
  }
 },
 "nbformat": 4,
 "nbformat_minor": 5
}