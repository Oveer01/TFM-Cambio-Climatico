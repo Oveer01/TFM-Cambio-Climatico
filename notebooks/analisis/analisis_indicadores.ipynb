{
 "cells": [
  {
   "cell_type": "markdown",
   "metadata": {},
   "source": "# An\u00e1lisis de Indicadores\nL\u00ednea temporal de indicadores seleccionados para un pa\u00eds."
  },
  {
   "cell_type": "code",
   "metadata": {},
   "source": "import os\nimport pandas as pd\nimport seaborn as sns\nimport matplotlib.pyplot as plt\nimport pymysql\nfrom dotenv import load_dotenv\nload_dotenv()\nconn=pymysql.connect(host=os.getenv('DB_HOST'),user=os.getenv('DB_USER'),password=os.getenv('DB_PASSWORD'),database=os.getenv('DB_NAME'))\nindicadores=['emision_co2','PIB']\npais='ESP'  # c\u00f3digo ISO del pa\u00eds\nquery=\"\nSELECT h.anio,i.codigo,h.valor\nFROM Hechos h\nJOIN Indicadores i ON h.indicador_id=i.id\nWHERE i.codigo IN (%s,%s) AND h.pais_id=%s\nORDER BY h.anio;\n\"\ndf=pd.read_sql(query,conn,params=indicadores+[pais])\nconn.close()\ndf_pivot=df.pivot(index='anio',columns='codigo',values='valor')\nplt.figure(figsize=(8,4))\nfor col in df_pivot.columns:\n    sns.lineplot(data=df_pivot,x=df_pivot.index,y=col,label=col)\nplt.xlabel('A\u00f1o')\nplt.ylabel('Valor')\nplt.title('Indicadores en '+pais)\nplt.legend()\nplt.tight_layout()\nplt.show()"
  }
 ],
 "metadata": {
  "kernelspec": {
   "display_name": "Python 3",
   "language": "python",
   "name": "python3"
  },
  "language_info": {
   "name": "python",
   "version": "3.11"
  }
 },
 "nbformat": 4,
 "nbformat_minor": 5
}