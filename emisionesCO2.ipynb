{
 "cells": [
  {
   "cell_type": "markdown",
   "id": "479684bb",
   "metadata": {},
   "source": [
    "# Análisis e Inserción de Emisiones de CO₂ por País\n",
    "\n",
    "Este notebook:  \n",
    "1. Carga el CSV de emisiones de CO₂.  \n",
    "2. Explora y limpia los datos (identifica valores faltantes).  \n",
    "3. Normaliza nombres de país y gestiona excepciones para mapearlos contra la tabla `Paises`.  \n",
    "4. Conecta a MySQL, añade la unidad “mt” a `Unidades` y crea la tabla `EmisionesCO2`.  \n",
    "5. Inserta los registros anuales de emisiones en la tabla de hechos.\n"
   ]
  },
  {
   "cell_type": "code",
   "execution_count": 6,
   "id": "5f55c071",
   "metadata": {},
   "outputs": [],
   "source": [
    "import os\n",
    "import pandas as pd\n",
    "import pymysql\n",
    "from pymysql.constants import CLIENT\n",
    "from pymysql import OperationalError\n",
    "\n",
    "# (Opcional) Si usas un .env:\n",
    "# from dotenv import load_dotenv\n",
    "# load_dotenv()\n",
    "\n",
    "DB_HOST     = os.getenv('DB_HOST', 'localhost')\n",
    "DB_USER     = os.getenv('DB_USER', 'root')\n",
    "DB_PASSWORD = os.getenv('DB_PASSWORD', 'admin')\n",
    "DB_NAME     = os.getenv('DB_NAME', 'tfm_cambio_climatico')\n",
    "\n",
    "# Conexión a MySQL\n",
    "conexion = pymysql.connect(\n",
    "    host=DB_HOST,\n",
    "    user=DB_USER,\n",
    "    password=DB_PASSWORD,\n",
    "    database=DB_NAME,\n",
    "    client_flag=CLIENT.MULTI_STATEMENTS\n",
    ")\n",
    "cursor = conexion.cursor()\n"
   ]
  },
  {
   "cell_type": "markdown",
   "id": "92634781",
   "metadata": {},
   "source": [
    "## 1. Carga y Exploración Inicial\n",
    "\n",
    "Leemos el CSV y vemos su forma, columnas y primeros registros.\n"
   ]
  },
  {
   "cell_type": "code",
   "execution_count": 7,
   "id": "a3f2c733",
   "metadata": {},
   "outputs": [
    {
     "name": "stdout",
     "output_type": "stream",
     "text": [
      "Shape: (5572, 3)\n"
     ]
    },
    {
     "data": {
      "application/vnd.microsoft.datawrangler.viewer.v0+json": {
       "columns": [
        {
         "name": "index",
         "rawType": "int64",
         "type": "integer"
        },
        {
         "name": "Country",
         "rawType": "object",
         "type": "string"
        },
        {
         "name": "Year",
         "rawType": "int64",
         "type": "integer"
        },
        {
         "name": "CO2EmissionRate (mt)",
         "rawType": "object",
         "type": "string"
        }
       ],
       "conversionMethod": "pd.DataFrame",
       "ref": "6c2626d6-0c27-46d9-b05a-60e6425064dd",
       "rows": [
        [
         "0",
         "Afghanistan",
         "2021",
         "8.35"
        ],
        [
         "1",
         "Albania",
         "2021",
         "4.59"
        ],
        [
         "2",
         "Algeria",
         "2021",
         "173"
        ],
        [
         "3",
         "Angola",
         "2021",
         "24.45"
        ],
        [
         "4",
         "Antigua and Barbuda",
         "2021",
         "0.78"
        ]
       ],
       "shape": {
        "columns": 3,
        "rows": 5
       }
      },
      "text/html": [
       "<div>\n",
       "<style scoped>\n",
       "    .dataframe tbody tr th:only-of-type {\n",
       "        vertical-align: middle;\n",
       "    }\n",
       "\n",
       "    .dataframe tbody tr th {\n",
       "        vertical-align: top;\n",
       "    }\n",
       "\n",
       "    .dataframe thead th {\n",
       "        text-align: right;\n",
       "    }\n",
       "</style>\n",
       "<table border=\"1\" class=\"dataframe\">\n",
       "  <thead>\n",
       "    <tr style=\"text-align: right;\">\n",
       "      <th></th>\n",
       "      <th>Country</th>\n",
       "      <th>Year</th>\n",
       "      <th>CO2EmissionRate (mt)</th>\n",
       "    </tr>\n",
       "  </thead>\n",
       "  <tbody>\n",
       "    <tr>\n",
       "      <th>0</th>\n",
       "      <td>Afghanistan</td>\n",
       "      <td>2021</td>\n",
       "      <td>8.35</td>\n",
       "    </tr>\n",
       "    <tr>\n",
       "      <th>1</th>\n",
       "      <td>Albania</td>\n",
       "      <td>2021</td>\n",
       "      <td>4.59</td>\n",
       "    </tr>\n",
       "    <tr>\n",
       "      <th>2</th>\n",
       "      <td>Algeria</td>\n",
       "      <td>2021</td>\n",
       "      <td>173</td>\n",
       "    </tr>\n",
       "    <tr>\n",
       "      <th>3</th>\n",
       "      <td>Angola</td>\n",
       "      <td>2021</td>\n",
       "      <td>24.45</td>\n",
       "    </tr>\n",
       "    <tr>\n",
       "      <th>4</th>\n",
       "      <td>Antigua and Barbuda</td>\n",
       "      <td>2021</td>\n",
       "      <td>0.78</td>\n",
       "    </tr>\n",
       "  </tbody>\n",
       "</table>\n",
       "</div>"
      ],
      "text/plain": [
       "               Country  Year CO2EmissionRate (mt)\n",
       "0          Afghanistan  2021                 8.35\n",
       "1              Albania  2021                 4.59\n",
       "2              Algeria  2021                  173\n",
       "3               Angola  2021                24.45\n",
       "4  Antigua and Barbuda  2021                 0.78"
      ]
     },
     "metadata": {},
     "output_type": "display_data"
    },
    {
     "name": "stdout",
     "output_type": "stream",
     "text": [
      "\n",
      "Valores nulos por columna:\n",
      "Country                 0\n",
      "Year                    0\n",
      "CO2EmissionRate (mt)    0\n",
      "dtype: int64\n"
     ]
    }
   ],
   "source": [
    "\n",
    "df_co2 = pd.read_csv('./data/tidy_format_co2_emission_dataset.csv', sep=',', encoding='utf-8')\n",
    "\n",
    "# Vista rápida\n",
    "print(\"Shape:\", df_co2.shape)\n",
    "display(df_co2.head())\n",
    "\n",
    "# Comprobar missing values\n",
    "print(\"\\nValores nulos por columna:\")\n",
    "print(df_co2.isnull().sum())\n"
   ]
  },
  {
   "cell_type": "markdown",
   "id": "88f93ef8",
   "metadata": {},
   "source": [
    "## 2. Limpieza y Normalización de Países\n",
    "\n",
    "Creamos `country_norm`, aplicamos excepciones para casos irregulares, y mapeamos contra la dimensión `Paises`.\n"
   ]
  },
  {
   "cell_type": "code",
   "execution_count": 8,
   "id": "a908db21",
   "metadata": {},
   "outputs": [
    {
     "name": "stdout",
     "output_type": "stream",
     "text": [
      "⚠️ Se encontraron 122 filas con valores no numéricos en CO2EmissionRate y se descartarán.\n",
      "⚠️Se descartaron 28 filas sin país válido\n"
     ]
    }
   ],
   "source": [
    "# ————————————————————————————————————————————————\n",
    "# Celda X: Normalizar, excepciones, explode y listar no mapeados\n",
    "# ————————————————————————————————————————————————\n",
    "\n",
    "# 1) Normalizar country y CO2EmissionRate (mt)\n",
    "df_co2['country_norm'] = (\n",
    "    df_co2['Country']\n",
    "      .astype(str)\n",
    "      .str.strip()\n",
    "      .str.lower()\n",
    ")\n",
    "\n",
    "# Quitar separadores de miles\n",
    "df_co2['co2_mt'] = df_co2['CO2EmissionRate (mt)'] \\\n",
    "    .astype(str) \\\n",
    "    .str.replace(',', '', regex=False)\n",
    "\n",
    "# Convertir a numérico, valores no válidos → NaN\n",
    "df_co2['co2_mt'] = pd.to_numeric(df_co2['co2_mt'], errors='coerce')\n",
    "\n",
    "# Informar y descartar filas con NaN en co2_mt\n",
    "missing = df_co2['co2_mt'].isna().sum()\n",
    "print(f\"⚠️ Se encontraron {missing} filas con valores no numéricos en CO2EmissionRate y se descartarán.\")\n",
    "df_co2 = df_co2[df_co2['co2_mt'].notna()]\n",
    "\n",
    "# 2) Cargar dimensión Paises (codigo, nombre_en)\n",
    "cursor.execute(\"SELECT codigo, nombre_en FROM Paises;\")\n",
    "dim_paises = { ne.strip().lower(): code for code, ne in cursor.fetchall() }\n",
    "\n",
    "# 3) Excepciones especiales\n",
    "exceptions_co2 = {\n",
    "    'bolivia': 'bolivia (plurinational state of)',\n",
    "    'british virgin islands': 'virgin islands (british)',\n",
    "    'brunei':'brunei darussalam',\n",
    "    'cape verde': 'cabo verde',\n",
    "    'czech republic': 'czechia',\n",
    "    'democratic republic of the congo': 'congo (the democratic republic of the)',\n",
    "    'falkland islands':    'falkland islands (the) [malvinas]',\n",
    "    'iran': 'iran (islamic republic of)',\n",
    "    'ivory coast': 'côte d\\'ivoire',\n",
    "    'laos': 'lao people\\'s democratic republic',\n",
    "    'macau': 'macao',\n",
    "    'moldova': 'moldova (the republic of)',\n",
    "    'namibia': None,\n",
    "    'netherlands': 'netherlands (kingdom of the)',\n",
    "    'north korea': 'korea (the democratic people\\'s republic of)',\n",
    "    'russia': 'russian federation',\n",
    "    'são tomé and príncipe': 'sao tome and principe',\n",
    "    'south korea': 'korea (the republic of)',\n",
    "    'syria': 'syrian arab republic',\n",
    "    'taiwan': 'taiwan (province of china)',\n",
    "    'tanzania': 'tanzania, the united republic of',\n",
    "    'turkey': 'türkiye',\n",
    "    'united kingdom': 'united kingdom of great britain and northern ireland',\n",
    "    'united states': 'united states of america',\n",
    "    'venezuela': 'venezuela (bolivarian republic of)',\n",
    "    'vietnam': 'viet nam'\n",
    "}\n",
    "\n",
    "# 4) Aplicar excepciones\n",
    "df_co2['country_db_name'] = df_co2['country_norm'].map(\n",
    "    lambda x: exceptions_co2[x] if x in exceptions_co2 else x\n",
    ")\n",
    "\n",
    "# 5) Explode de listas\n",
    "df_co2['country_list'] = df_co2['country_db_name'].apply(\n",
    "    lambda v: [] if v is None else (v if isinstance(v, list) else [v])\n",
    ")\n",
    "df_co2 = df_co2.explode('country_list')\n",
    "\n",
    "# 6) Mapear a código\n",
    "df_co2['pais_id'] = (\n",
    "    df_co2['country_list']\n",
    "      .str.strip()\n",
    "      .str.lower()\n",
    "      .map(dim_paises)\n",
    ")\n",
    "\n",
    "# 7) Filtrar sin mapeo\n",
    "antes = len(df_co2)\n",
    "df_co2 = df_co2[df_co2['pais_id'].notna()]\n",
    "print(f\"⚠️Se descartaron {antes - len(df_co2)} filas sin país válido\")\n"
   ]
  },
  {
   "cell_type": "markdown",
   "id": "ad756f73",
   "metadata": {},
   "source": [
    "## 4. Crear la tabla `EmisionesCO2` y añadir la unidad “mt”\n",
    "\n",
    "En esta sección creamos la tabla de hechos para las emisiones de CO₂ y nos aseguramos de que la unidad `mt` (metric tonnes) esté presente en la dimensión `Unidades`.\n"
   ]
  },
  {
   "cell_type": "code",
   "execution_count": 9,
   "id": "16a657a1",
   "metadata": {},
   "outputs": [
    {
     "name": "stdout",
     "output_type": "stream",
     "text": [
      "unit_id para 'mt': 2\n"
     ]
    }
   ],
   "source": [
    "conexion.ping(reconnect=True)\n",
    "cursor = conexion.cursor()\n",
    "\n",
    "# Crear la tabla EmisionesCO2\n",
    "sql_create_emisiones = \"\"\"\n",
    "CREATE TABLE IF NOT EXISTS EmisionesCO2 (\n",
    "    id INT AUTO_INCREMENT PRIMARY KEY,\n",
    "    pais_id VARCHAR(10)   NOT NULL,\n",
    "    periodo_id INT        NOT NULL,\n",
    "    anio INT              NOT NULL,\n",
    "    unidad_id INT         NOT NULL,\n",
    "    valor FLOAT,\n",
    "    FOREIGN KEY (pais_id)     REFERENCES Paises(codigo),\n",
    "    FOREIGN KEY (periodo_id)  REFERENCES Periodos(id),\n",
    "    FOREIGN KEY (unidad_id)   REFERENCES Unidades(id)\n",
    ") ENGINE=InnoDB DEFAULT CHARSET=utf8mb4 COLLATE=utf8mb4_unicode_ci;\n",
    "\"\"\"\n",
    "cursor.execute(sql_create_emisiones)\n",
    "conexion.commit()\n",
    "\n",
    "# Insertar la unidad 'mt' si no existe\n",
    "cursor.execute(\"\"\"\n",
    "  INSERT IGNORE INTO Unidades (descripcion)\n",
    "  VALUES ('mt');\n",
    "\"\"\")\n",
    "conexion.commit()\n",
    "\n",
    "# Recuperar el ID de la unidad 'mt'\n",
    "cursor.execute(\"SELECT id FROM Unidades WHERE descripcion = 'mt';\")\n",
    "unit_id_mt = cursor.fetchone()[0]\n",
    "print(\"unit_id para 'mt':\", unit_id_mt)\n"
   ]
  },
  {
   "cell_type": "markdown",
   "id": "432aaf1a",
   "metadata": {},
   "source": [
    "## 5. Insertar los datos de emisiones de CO₂\n",
    "\n",
    "Cada fila de `df_co2` ya tiene su `pais_id` mapeado y el año. Dado que los datos son anuales, usaremos siempre `periodo_id = 17`. A continuación preparamos los *batch inserts* y volcamos los registros en la base de datos.\n"
   ]
  },
  {
   "cell_type": "code",
   "execution_count": 10,
   "id": "cb006647",
   "metadata": {},
   "outputs": [
    {
     "name": "stdout",
     "output_type": "stream",
     "text": [
      "Total a insertar: 5422 filas\n",
      "  ✔ Insertadas filas 1–1000\n",
      "  ✔ Insertadas filas 1001–2000\n",
      "  ✔ Insertadas filas 2001–3000\n",
      "  ✔ Insertadas filas 3001–4000\n",
      "  ✔ Insertadas filas 4001–5000\n",
      "  ✔ Insertadas filas 5001–5422\n"
     ]
    }
   ],
   "source": [
    "fact_emisiones = []\n",
    "for _, row in df_co2.iterrows():\n",
    "    fact_emisiones.append((\n",
    "        row['pais_id'],\n",
    "        17,\n",
    "        int(row['Year']),\n",
    "        unit_id_mt,\n",
    "        row['co2_mt']\n",
    "    ))\n",
    "\n",
    "sql_insert_emisiones = \"\"\"\n",
    "INSERT INTO EmisionesCO2\n",
    "  (pais_id, periodo_id, anio, unidad_id, valor)\n",
    "VALUES (%s, %s, %s, %s, %s);\n",
    "\"\"\"\n",
    "\n",
    "# Parámetros de batching\n",
    "batch_size = 1000\n",
    "total = len(fact_emisiones)\n",
    "print(f\"Total a insertar: {total} filas\")\n",
    "\n",
    "for start in range(0, total, batch_size):\n",
    "    end = start + batch_size\n",
    "    batch = fact_emisiones[start:end]\n",
    "    try:\n",
    "        cursor.executemany(sql_insert_emisiones, batch)\n",
    "        conexion.commit()\n",
    "        print(f\"  ✔ Insertadas filas {start + 1}–{min(end, total)}\")\n",
    "    except pymysql.err.OperationalError as e:\n",
    "        print(f\"  ❌ Error al insertar lote {start + 1}–{min(end, total)}:\", e)\n",
    "        conexion.rollback()\n",
    "        break\n",
    "\n",
    "# Clean up\n",
    "cursor.close()\n",
    "conexion.close()\n"
   ]
  }
 ],
 "metadata": {
  "kernelspec": {
   "display_name": "Python 3",
   "language": "python",
   "name": "python3"
  },
  "language_info": {
   "codemirror_mode": {
    "name": "ipython",
    "version": 3
   },
   "file_extension": ".py",
   "mimetype": "text/x-python",
   "name": "python",
   "nbconvert_exporter": "python",
   "pygments_lexer": "ipython3",
   "version": "3.11.9"
  }
 },
 "nbformat": 4,
 "nbformat_minor": 5
}
